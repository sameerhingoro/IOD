{
  "cells": [
    {
      "cell_type": "markdown",
      "metadata": {
        "id": "view-in-github",
        "colab_type": "text"
      },
      "source": [
        "<a href=\"https://colab.research.google.com/github/sameerhingoro/IOD/blob/main/Lab%201/IOD_Lab_1_2_1_Vector_Matrix_Operations.ipynb\" target=\"_parent\"><img src=\"https://colab.research.google.com/assets/colab-badge.svg\" alt=\"Open In Colab\"/></a>"
      ]
    },
    {
      "cell_type": "markdown",
      "metadata": {
        "id": "emj1GNgIT3CB"
      },
      "source": [
        "<div>\n",
        "<img src=https://www.institutedata.com/wp-content/uploads/2019/10/iod_h_tp_primary_c.svg width=\"300\">\n",
        "</div>"
      ]
    },
    {
      "cell_type": "markdown",
      "source": [
        "In this lab you will use Python (with the NumPy library) to carry out linear algebra operations."
      ],
      "metadata": {
        "id": "6WVkmCXWoyit"
      }
    },
    {
      "cell_type": "markdown",
      "metadata": {
        "id": "FvN6xzeyT3CC"
      },
      "source": [
        "1. Compute the scalar product of two vectors\n",
        "\n",
        "> In mathematics, the dot product or scalar product is an algebraic operation that takes two equal-length sequences of numbers (usually coordinate vectors) and returns a single number.\n",
        "\n",
        "> we can calculate it this way:\n",
        "\n",
        "        a · b = ax × bx + ay × by\n",
        "        \n",
        "Hint: [Dot Product](https://www.mathsisfun.com/algebra/vectors-dot-product.html)"
      ]
    },
    {
      "cell_type": "code",
      "execution_count": 1,
      "metadata": {
        "ExecuteTime": {
          "end_time": "2019-06-27T03:58:34.200170Z",
          "start_time": "2019-06-27T03:58:34.196182Z"
        },
        "id": "JkwM7G3IT3CD"
      },
      "outputs": [],
      "source": [
        "import numpy as np"
      ]
    },
    {
      "cell_type": "code",
      "execution_count": 2,
      "metadata": {
        "ExecuteTime": {
          "end_time": "2019-06-27T04:56:56.317427Z",
          "start_time": "2019-06-27T04:56:56.313425Z"
        },
        "id": "rsOPN02pT3CG"
      },
      "outputs": [],
      "source": [
        "a = [-12, 16]\n",
        "b = [12, 9]"
      ]
    },
    {
      "cell_type": "code",
      "execution_count": 4,
      "metadata": {
        "id": "imtohvp_ZrIc",
        "outputId": "80e484d0-56a5-4755-cac5-da9450d2da23",
        "colab": {
          "base_uri": "https://localhost:8080/"
        }
      },
      "outputs": [
        {
          "output_type": "execute_result",
          "data": {
            "text/plain": [
              "0"
            ]
          },
          "metadata": {},
          "execution_count": 4
        }
      ],
      "source": [
        "#answer:\n",
        "dot_product = np.dot(a, b)\n",
        "dot_product"
      ]
    },
    {
      "cell_type": "markdown",
      "metadata": {
        "id": "2M2dKNL-T3CL"
      },
      "source": [
        "2. Compute the Hadamard product (entry-wise multiplication) of two vectors.\n",
        "\n",
        "> In mathematics, the Hadamard product (also known as the Schur product[1] or the entrywise product[2]:ch. 5) is a binary operation that takes two matrices of the same dimensions and produces another matrix of the same dimension as the operands where each element i, j is the product of elements i, j of the original two matrices. It should not be confused with the more common matrix product. It is attributed to, and named after, either French mathematician Jacques Hadamard or German mathematician Issai Schur. [Wiki](https://en.wikipedia.org/wiki/Hadamard_product_(matrices))\n",
        "\n",
        "![](https://wikimedia.org/api/rest_v1/media/math/render/svg/4eb9bb54b2820fb3583901ec05bc4b474b6d90bc)"
      ]
    },
    {
      "cell_type": "code",
      "execution_count": 5,
      "metadata": {
        "ExecuteTime": {
          "end_time": "2019-06-27T04:57:06.480263Z",
          "start_time": "2019-06-27T04:57:06.474279Z"
        },
        "id": "WnDQY9MyT3CM"
      },
      "outputs": [],
      "source": [
        "a = np.array([[1,2],[3,4]])\n",
        "b = np.array([[5,6],[7,8]])"
      ]
    },
    {
      "cell_type": "code",
      "execution_count": 7,
      "metadata": {
        "id": "mBergFdmZrIc",
        "outputId": "b135eace-9d6e-40b4-c543-40e6deaba641",
        "colab": {
          "base_uri": "https://localhost:8080/"
        }
      },
      "outputs": [
        {
          "output_type": "execute_result",
          "data": {
            "text/plain": [
              "array([[ 5, 12],\n",
              "       [21, 32]])"
            ]
          },
          "metadata": {},
          "execution_count": 7
        }
      ],
      "source": [
        "#answer:\n",
        "hadamard_product = a * b\n",
        "hadamard_product"
      ]
    },
    {
      "cell_type": "code",
      "source": [
        "hadamard_product_2 = np.multiply(a, b)\n",
        "hadamard_product_2"
      ],
      "metadata": {
        "id": "WaqsiWwrqH7n",
        "outputId": "23865fb1-fdaf-42fc-fdbe-986bd04039eb",
        "colab": {
          "base_uri": "https://localhost:8080/"
        }
      },
      "execution_count": 9,
      "outputs": [
        {
          "output_type": "execute_result",
          "data": {
            "text/plain": [
              "array([[ 5, 12],\n",
              "       [21, 32]])"
            ]
          },
          "metadata": {},
          "execution_count": 9
        }
      ]
    },
    {
      "cell_type": "code",
      "execution_count": null,
      "metadata": {
        "id": "rXP4sJEA-Y9K"
      },
      "outputs": [],
      "source": [
        "#desired output:\n",
        "# np.array([[5,12],[21,32]])"
      ]
    },
    {
      "cell_type": "markdown",
      "metadata": {
        "id": "b1ZR2J8HT3CO"
      },
      "source": [
        "3. Compute the sum of two matrices.\n",
        "\n",
        "![](https://wikimedia.org/api/rest_v1/media/math/render/svg/0fb7845af355c550d44020e52699069c044126a9)"
      ]
    },
    {
      "cell_type": "code",
      "execution_count": 11,
      "metadata": {
        "ExecuteTime": {
          "end_time": "2019-06-27T04:57:13.225605Z",
          "start_time": "2019-06-27T04:57:13.214634Z"
        },
        "id": "ulBVhGDET3CP"
      },
      "outputs": [],
      "source": [
        "# Add two matrices using a nested loop\n",
        "\n",
        "X = [[1,2,3],\n",
        "    [4,5,6],\n",
        "    [7,8,9]]\n",
        "\n",
        "Y = [[2,3,7],\n",
        "    [1,4,9],\n",
        "    [3,2,3]]"
      ]
    },
    {
      "cell_type": "code",
      "execution_count": 15,
      "metadata": {
        "id": "ZeLJp3ZGZrId",
        "outputId": "ea195ccf-e8ac-4dea-ddc1-f85460c3f028",
        "colab": {
          "base_uri": "https://localhost:8080/"
        }
      },
      "outputs": [
        {
          "output_type": "stream",
          "name": "stdout",
          "text": [
            "[[3, 5, 10], [5, 9, 15], [10, 10, 12]]\n"
          ]
        }
      ],
      "source": [
        "#answer:\n",
        "result = []\n",
        "for i in range(len(X)):\n",
        "  row = []\n",
        "  for j in range(len(X[0])):\n",
        "    row.append(X[i][j] + Y[i][j])\n",
        "\n",
        "  result.append(row)\n",
        "\n",
        "print(result)\n",
        "\n"
      ]
    },
    {
      "cell_type": "code",
      "execution_count": null,
      "metadata": {
        "id": "44erAMmCZrId"
      },
      "outputs": [],
      "source": [
        "#desired output:\n",
        "#[[3,5,10],\n",
        "# [5,9,15],\n",
        "# [10,10,12]]"
      ]
    },
    {
      "cell_type": "markdown",
      "metadata": {
        "ExecuteTime": {
          "end_time": "2019-06-27T04:04:23.509007Z",
          "start_time": "2019-06-27T04:04:23.503018Z"
        },
        "id": "CZFVdvEhT3CS"
      },
      "source": [
        "4. Compute the product of two matrices.\n",
        "\n",
        "![](https://upload.wikimedia.org/wikipedia/commons/e/eb/Matrix_multiplication_diagram_2.svg)"
      ]
    },
    {
      "cell_type": "code",
      "execution_count": 21,
      "metadata": {
        "ExecuteTime": {
          "end_time": "2019-06-27T04:57:19.425749Z",
          "start_time": "2019-06-27T04:57:19.412783Z"
        },
        "id": "2cwCXjx_T3CT"
      },
      "outputs": [],
      "source": [
        "# Program to multiply two matrices using nested loops\n",
        "\n",
        "# 3x3 matrix\n",
        "X = [[7, 2, 4],\n",
        "    [3, 9, 5],\n",
        "    [8, 1, 6]]\n",
        "\n",
        "# 3x4 matrix\n",
        "Y = [[5,8,2,6],\n",
        "    [1,4,9,3],\n",
        "    [7,2,5,8]]\n",
        "\n",
        "#X is 3 x 3, #Y is 3 x 4 matrix\n",
        "#result of XY is 3 x 4 matrix."
      ]
    },
    {
      "cell_type": "code",
      "execution_count": 24,
      "metadata": {
        "id": "cIUXYjgGZrIe",
        "outputId": "684d7956-dd10-4f86-f87b-cc52003e8fa9",
        "colab": {
          "base_uri": "https://localhost:8080/"
        }
      },
      "outputs": [
        {
          "output_type": "stream",
          "name": "stdout",
          "text": [
            "Result of matrix multiplication:\n",
            "[65, 72, 52, 80]\n",
            "[59, 70, 112, 85]\n",
            "[83, 80, 55, 99]\n"
          ]
        }
      ],
      "source": [
        "#answer:\n",
        "result = [[0 for _ in range(len(Y[0]))] for _ in range(len(X))]\n",
        "\n",
        "for i in range(len(X)):\n",
        "    for j in range(len(Y[0])):\n",
        "        for k in range(len(Y)):\n",
        "            result[i][j] += X[i][k] * Y[k][j]\n",
        "\n",
        "print(\"Result of matrix multiplication:\")\n",
        "for row in result:\n",
        "    print(row)\n"
      ]
    },
    {
      "cell_type": "code",
      "execution_count": null,
      "metadata": {
        "id": "M2_bFbUbZrIe"
      },
      "outputs": [],
      "source": [
        "#desired output:\n",
        "#[[65, 72, 52, 80],\n",
        "# [59, 70, 112, 85],\n",
        "# [83, 80, 55, 99]]"
      ]
    },
    {
      "cell_type": "markdown",
      "metadata": {
        "id": "zxe0vdBVT3CV"
      },
      "source": [
        "5. Compute the determinant of an n x n matrix.\n",
        "\n",
        "![](https://integratedmlai.com/wp-content/uploads/2018/12/Matrix_Det_2x2.png)\n",
        "\n",
        "Hint: [Find the Determinant of a Matrix with Pure Python without Numpy or Scipy](https://integratedmlai.com/find-the-determinant-of-a-matrix-with-pure-python-without-numpy-or-scipy/)\n",
        "\n",
        "Hint: Use\n",
        "> np.linalg.det"
      ]
    },
    {
      "cell_type": "code",
      "execution_count": 26,
      "metadata": {
        "ExecuteTime": {
          "end_time": "2019-06-27T04:58:00.140277Z",
          "start_time": "2019-06-27T04:58:00.135291Z"
        },
        "id": "7SpAPh-5T3CW"
      },
      "outputs": [],
      "source": [
        "matrix = [[-2,2,-3],[-1,1,3],[2,0,-1]]"
      ]
    },
    {
      "cell_type": "code",
      "execution_count": 27,
      "metadata": {
        "id": "rjFQS3POZrIe",
        "outputId": "d9290b67-3ddb-47b1-b150-26a794341489",
        "colab": {
          "base_uri": "https://localhost:8080/"
        }
      },
      "outputs": [
        {
          "output_type": "execute_result",
          "data": {
            "text/plain": [
              "17.999999999999996"
            ]
          },
          "metadata": {},
          "execution_count": 27
        }
      ],
      "source": [
        "#answer:\n",
        "matrix_np = np.array(matrix)\n",
        "\n",
        "# Compute the determinant\n",
        "determinant = np.linalg.det(matrix_np)\n",
        "determinant"
      ]
    },
    {
      "cell_type": "markdown",
      "metadata": {
        "id": "vUC6L5r1T3Ca"
      },
      "source": [
        "6. Compute the inverse of an n x n matrix.\n",
        "\n",
        "For a 3×3 matrix\n",
        "\n",
        "![](http://mathworld.wolfram.com/images/equations/MatrixInverse/NumberedEquation3.gif)\n",
        "\n",
        "the matrix inverse is\n",
        "\n",
        "![](http://mathworld.wolfram.com/images/equations/MatrixInverse/NumberedEquation4.gif)\n",
        "\n",
        "Hint: Use\n",
        "> from numpy.linalg import inv"
      ]
    },
    {
      "cell_type": "code",
      "execution_count": null,
      "metadata": {
        "ExecuteTime": {
          "end_time": "2019-06-27T04:58:33.615832Z",
          "start_time": "2019-06-27T04:58:33.609848Z"
        },
        "id": "qGxUYlMWT3Cb"
      },
      "outputs": [],
      "source": [
        "a = np.array([[1., 2.], [3., 4.]])"
      ]
    },
    {
      "cell_type": "code",
      "execution_count": null,
      "metadata": {
        "id": "pP_uIj5vZrIe"
      },
      "outputs": [],
      "source": [
        "#answer:\n"
      ]
    },
    {
      "cell_type": "markdown",
      "metadata": {
        "id": "f52z_umQpL1V"
      },
      "source": [
        "\n",
        "\n",
        "---\n",
        "\n",
        "\n",
        "\n",
        "---\n",
        "\n",
        "\n",
        "\n",
        "> > > > > > > > > © 2024 Institute of Data\n",
        "\n",
        "\n",
        "---\n",
        "\n",
        "\n",
        "\n",
        "---\n",
        "\n",
        "\n",
        "\n"
      ]
    }
  ],
  "metadata": {
    "colab": {
      "provenance": [],
      "include_colab_link": true
    },
    "kernelspec": {
      "display_name": "Python 3 (ipykernel)",
      "language": "python",
      "name": "python3"
    },
    "language_info": {
      "codemirror_mode": {
        "name": "ipython",
        "version": 3
      },
      "file_extension": ".py",
      "mimetype": "text/x-python",
      "name": "python",
      "nbconvert_exporter": "python",
      "pygments_lexer": "ipython3",
      "version": "3.9.12"
    }
  },
  "nbformat": 4,
  "nbformat_minor": 0
}