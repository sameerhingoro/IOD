{
  "cells": [
    {
      "cell_type": "markdown",
      "metadata": {
        "id": "view-in-github",
        "colab_type": "text"
      },
      "source": [
        "<a href=\"https://colab.research.google.com/github/sameerhingoro/IOD/blob/main/Lab%201/IOD_Lab_1_1_2_NumPy.ipynb\" target=\"_parent\"><img src=\"https://colab.research.google.com/assets/colab-badge.svg\" alt=\"Open In Colab\"/></a>"
      ]
    },
    {
      "cell_type": "markdown",
      "metadata": {
        "id": "iA6gMzOAsIgo"
      },
      "source": [
        "<div>\n",
        "<img src=https://www.institutedata.com/wp-content/uploads/2019/10/iod_h_tp_primary_c.svg width=\"300\">\n",
        "</div>"
      ]
    },
    {
      "cell_type": "markdown",
      "metadata": {
        "id": "6v4X9aDpRxRn"
      },
      "source": [
        "# NumPy Exploration"
      ]
    },
    {
      "cell_type": "markdown",
      "source": [
        "This lab provides practice in the following NumPy functions and later creating plots using matplotlib.\n",
        "\n",
        "* zeros\n",
        "* ones\n",
        "* randint\n",
        "* arange\n",
        "* array\n",
        "* seed\n",
        "* normal\n",
        "* round\n",
        "* column_stack\n",
        "* ndim\n",
        "* shape\n",
        "* size\n",
        "* itemsize\n",
        "* min\n",
        "* max\n",
        "* mean\n",
        "* std\n",
        "* sum\n"
      ],
      "metadata": {
        "id": "4l4hvVs-Fsgj"
      }
    },
    {
      "cell_type": "code",
      "execution_count": 1,
      "metadata": {
        "id": "hefHy7RERxRp"
      },
      "outputs": [],
      "source": [
        "import numpy as np\n",
        "import matplotlib.pyplot as plt\n",
        "# import matplotlib\n",
        "\n",
        "# get matplot to show charts inline\n",
        "%matplotlib inline"
      ]
    },
    {
      "cell_type": "markdown",
      "source": [
        "## Synthetic Data\n",
        "\n",
        "Sometimes we may want to generate test data, or we may need to initialise a series, matrix, or data frame for input to an algorithm. Numpy has several methods we can use for this."
      ],
      "metadata": {
        "id": "x9ntvVXELtPj"
      }
    },
    {
      "cell_type": "markdown",
      "source": [
        "Execute the following, then check the shape and content of each variable:"
      ],
      "metadata": {
        "id": "YplM1LeFL4L-"
      }
    },
    {
      "cell_type": "code",
      "source": [
        "# Creating arrays with initial values\n",
        "a = np.zeros((3))\n",
        "b = np.ones((1,3))\n",
        "c = np.random.randint(1,10,(2,3,4))   # randint(low, high, size)\n",
        "d = np.arange(4)\n",
        "e = np.array( [[1,2,3,4], [5,6,7,8]] )"
      ],
      "metadata": {
        "id": "kUc7oSH3Lr9B"
      },
      "execution_count": 2,
      "outputs": []
    },
    {
      "cell_type": "code",
      "source": [
        "### ANSWER\n",
        "a.shape, b.shape, c.shape, d.shape, e.shape"
      ],
      "metadata": {
        "id": "-B-0y4IRMoKm",
        "colab": {
          "base_uri": "https://localhost:8080/"
        },
        "outputId": "79b9b539-c70d-42b6-d4d1-bfd5ed164549"
      },
      "execution_count": 15,
      "outputs": [
        {
          "output_type": "execute_result",
          "data": {
            "text/plain": [
              "((3,), (1, 3), (2, 3, 4), (4,), (2, 4))"
            ]
          },
          "metadata": {},
          "execution_count": 15
        }
      ]
    },
    {
      "cell_type": "code",
      "source": [
        "print(c)"
      ],
      "metadata": {
        "colab": {
          "base_uri": "https://localhost:8080/"
        },
        "id": "CSNp0jfEskNO",
        "outputId": "fd758642-06e5-492d-b9dc-bd6d1b8aacd2"
      },
      "execution_count": 12,
      "outputs": [
        {
          "output_type": "stream",
          "name": "stdout",
          "text": [
            "[[[2 8 7 8]\n",
            "  [2 4 4 7]\n",
            "  [8 7 2 9]]\n",
            "\n",
            " [[4 3 6 7]\n",
            "  [9 4 8 5]\n",
            "  [6 4 1 6]]]\n"
          ]
        }
      ]
    },
    {
      "cell_type": "markdown",
      "source": [
        "## Summary statistics with height, weight and population data"
      ],
      "metadata": {
        "id": "FvhzdqWcMjvZ"
      }
    },
    {
      "cell_type": "code",
      "execution_count": 16,
      "metadata": {
        "id": "hW87a--DRxRu"
      },
      "outputs": [],
      "source": [
        "np.random.seed(0)\n",
        "height= np.round(np.random.normal(1.75, 0.20, 7000), 2)\n",
        "weight= np.round(np.random.normal(60.32, 15, 7000), 2)\n",
        "population=np.column_stack((height, weight))"
      ]
    },
    {
      "cell_type": "code",
      "execution_count": null,
      "metadata": {
        "colab": {
          "base_uri": "https://localhost:8080/"
        },
        "id": "EmcwT6cDTv3J",
        "outputId": "181cac2c-dc51-47c3-e331-02533f6a38ce"
      },
      "outputs": [
        {
          "output_type": "stream",
          "name": "stdout",
          "text": [
            "height:\n",
            " [2.1  1.83 1.95 ... 1.55 1.54 1.57]\n",
            "weight:\n",
            " [52.6  66.59 29.59 ... 75.48 75.57 55.16]\n",
            "population:\n",
            " [[ 2.1  52.6 ]\n",
            " [ 1.83 66.59]\n",
            " [ 1.95 29.59]\n",
            " ...\n",
            " [ 1.55 75.48]\n",
            " [ 1.54 75.57]\n",
            " [ 1.57 55.16]]\n"
          ]
        }
      ],
      "source": [
        "print('height:\\n',height)\n",
        "print('weight:\\n',weight)\n",
        "print('population:\\n',population)"
      ]
    },
    {
      "cell_type": "markdown",
      "metadata": {
        "id": "FXVi-lphTHs2"
      },
      "source": [
        "**1. Find Dimension of Array**\n",
        "\n",
        "Find the dimension of each array: height, weight, population\n",
        "```\n",
        "# Expected Ouput\n",
        "np.ndim(height): 1\n",
        "np.ndim(weight): 1\n",
        "np.ndim(population): 2\n",
        "```"
      ]
    },
    {
      "cell_type": "code",
      "source": [
        "print(f\"np.ndim(height): {np.ndim(height)}\\nnp.ndim(weight): {np.ndim(weight)}\\nnp.ndim(population): {np.ndim(population)}\")"
      ],
      "metadata": {
        "id": "XRhSiPwhxCSs",
        "colab": {
          "base_uri": "https://localhost:8080/"
        },
        "outputId": "780b654a-06ca-41c8-c45e-c0f671cee1b9"
      },
      "execution_count": 24,
      "outputs": [
        {
          "output_type": "stream",
          "name": "stdout",
          "text": [
            "np.ndim(height): 1\n",
            "np.ndim(weight): 1\n",
            "np.ndim(population): 2\n"
          ]
        }
      ]
    },
    {
      "cell_type": "markdown",
      "metadata": {
        "id": "_TGkqif9T44j"
      },
      "source": [
        "**2. Find Shape of Array**\n",
        "\n",
        "Find the shape of each array: height, weight, population\n",
        "```\n",
        "# Expected Ouput\n",
        "np.shape(height) : (7000,)\n",
        "np.shape(weight) : (7000,)\n",
        "np.shape(population) : (7000, 2)\n",
        "```\n",
        "\n"
      ]
    },
    {
      "cell_type": "code",
      "source": [
        "print(f\"np.shape(height): {np.shape(height)}\\nnp.shape(weight): {np.shape(weight)}\\nnp.shape(population): {np.shape(population)}\")"
      ],
      "metadata": {
        "id": "TT6LdPGzNDX1",
        "colab": {
          "base_uri": "https://localhost:8080/"
        },
        "outputId": "c10abe75-aa0d-48ad-f7cf-16c1fb4be2c7"
      },
      "execution_count": 25,
      "outputs": [
        {
          "output_type": "stream",
          "name": "stdout",
          "text": [
            "np.shape(height): (7000,)\n",
            "np.shape(weight): (7000,)\n",
            "np.shape(population): (7000, 2)\n"
          ]
        }
      ]
    },
    {
      "cell_type": "markdown",
      "metadata": {
        "id": "I1x7cNp0UIkp"
      },
      "source": [
        "**3. Find Size of Array**\n",
        "\n",
        "Find the size of each array: height, weight, population\n",
        "```\n",
        "# Expected Ouput:\n",
        "np.size(height) : 7000\n",
        "np.size(weight) : 7000\n",
        "np.size(weight) : 14000\n",
        "```\n",
        "\n"
      ]
    },
    {
      "cell_type": "code",
      "source": [
        "print(f\"np.size(height): {np.size(height)}\\nnp.size(weight): {np.size(weight)}\\nnp.size(population): {np.size(population)}\")"
      ],
      "metadata": {
        "colab": {
          "base_uri": "https://localhost:8080/"
        },
        "id": "l8X_C_V6xjs9",
        "outputId": "a04858e7-e48b-4106-98e4-873586c6be1f"
      },
      "execution_count": 26,
      "outputs": [
        {
          "output_type": "stream",
          "name": "stdout",
          "text": [
            "np.size(height): 7000\n",
            "np.size(weight): 7000\n",
            "np.size(population): 14000\n"
          ]
        }
      ]
    },
    {
      "cell_type": "markdown",
      "metadata": {
        "id": "v1N4xcurUVCS"
      },
      "source": [
        "**4. Find Size of Items of Each Array**\n",
        "\n",
        "Find the size of items of each array: height, weight, population\n",
        "```\n",
        "# Expected Output:\n",
        "height.itemsize : 8\n",
        "weight.itemsize : 8\n",
        "population.itemsize : 8\n",
        "```"
      ]
    },
    {
      "cell_type": "code",
      "source": [
        "print(f\"height.itemsize: {height.itemsize}\\nweight.itemsize: {weight.itemsize}\\npopulation.itemsize: {population.itemsize}\")"
      ],
      "metadata": {
        "id": "OlQQ5g81NANg",
        "colab": {
          "base_uri": "https://localhost:8080/"
        },
        "outputId": "6654d6e7-665e-4eac-db7b-358700f5c3c0"
      },
      "execution_count": 31,
      "outputs": [
        {
          "output_type": "stream",
          "name": "stdout",
          "text": [
            "height.itemsize: 8\n",
            "weight.itemsize: 8\n",
            "population.itemsize: 8\n"
          ]
        }
      ]
    },
    {
      "cell_type": "markdown",
      "metadata": {
        "id": "r83X2u4HUteY"
      },
      "source": [
        "**5. Find Minimum Value of Each Array**\n",
        "\n",
        "Find the minimum value of each array: height, weight, population (ok if the numbers you find are not identical to those below)\n",
        "```\n",
        "# Expected Output:\n",
        "height.min() : 1.0\n",
        "weight.min() : 3.24\n",
        "population.min() : 1.0\n",
        "```\n",
        "\n"
      ]
    },
    {
      "cell_type": "code",
      "source": [
        "print(f\"height.min(): {np.min(height)}\\nweight.min(): {np.min(weight)}\\npopulation.min(): {np.min(population)}\")"
      ],
      "metadata": {
        "id": "s0hh9orsM-w5",
        "colab": {
          "base_uri": "https://localhost:8080/"
        },
        "outputId": "d794f077-523e-4037-f0ca-8c436968d2ce"
      },
      "execution_count": 33,
      "outputs": [
        {
          "output_type": "stream",
          "name": "stdout",
          "text": [
            "height.min(): 1.0\n",
            "weight.min(): 4.91\n",
            "population.min(): 1.0\n"
          ]
        }
      ]
    },
    {
      "cell_type": "markdown",
      "metadata": {
        "id": "d7v4phGMVAu0"
      },
      "source": [
        "**6. Find Maximum Value of Each Array**\n",
        "\n",
        "Find the maximum value of each array: height, weight, population (ok if the numbers you find are not identical to those below)\n",
        "```\n",
        "# Expected Output\n",
        "height.max() : 2.51\n",
        "weight.max() : 132.17\n",
        "population.max() : 132.17\n",
        "```"
      ]
    },
    {
      "cell_type": "code",
      "source": [
        "print(f\"height.max(): {np.max(height)}\\nweight.max(): {np.max(weight)}\\npopulation.max(): {np.max(population)}\")"
      ],
      "metadata": {
        "id": "17ONWBatM-Im",
        "colab": {
          "base_uri": "https://localhost:8080/"
        },
        "outputId": "a2b37bf6-c8ee-4cf6-870f-2bfc08a00430"
      },
      "execution_count": 34,
      "outputs": [
        {
          "output_type": "stream",
          "name": "stdout",
          "text": [
            "height.max(): 2.51\n",
            "weight.max(): 112.69\n",
            "population.max(): 112.69\n"
          ]
        }
      ]
    },
    {
      "cell_type": "markdown",
      "metadata": {
        "id": "vYPOvoePVa0m"
      },
      "source": [
        "**7. Find Mean Value of Each Array**\n",
        "\n",
        "Find the mean value of each array: height, weight, population (ok if the numbers you find are not identical to those below)\n",
        "```\n",
        "# Expected Output\n",
        "height.mean() : 1.7494871428571428\n",
        "weight.mean() : 60.41684428571429\n",
        "population.mean() : 31.083165714285716\n",
        "```\n",
        "\n"
      ]
    },
    {
      "cell_type": "code",
      "source": [
        "print(f\"height.mean(): {np.mean(height)}\\nweight.mean(): {np.mean(weight)}\\npopulation.mean(): {np.mean(population)}\")"
      ],
      "metadata": {
        "id": "LF3yvxzYM8qh",
        "colab": {
          "base_uri": "https://localhost:8080/"
        },
        "outputId": "0cfcff14-6831-42b4-9c4f-e3ee5ad0710b"
      },
      "execution_count": 35,
      "outputs": [
        {
          "output_type": "stream",
          "name": "stdout",
          "text": [
            "height.mean(): 1.7477614285714285\n",
            "weight.mean(): 60.052885714285715\n",
            "population.mean(): 30.900323571428572\n"
          ]
        }
      ]
    },
    {
      "cell_type": "markdown",
      "metadata": {
        "id": "Xo7Y5yQPV070"
      },
      "source": [
        "**8. Find Standard Deviation of Each Array**\n",
        "\n",
        "Find the standard deviation value of each array: height, weight, population (ok if the numbers you find are not identical to those below)\n",
        "```\n",
        "# Expected Output\n",
        "height.std() : 0.1981923748970856\n",
        "weight.std() : 14.821310711612284\n",
        "population.std() : 31.090684288943482\n",
        "```"
      ]
    },
    {
      "cell_type": "code",
      "source": [
        "print(f\"height.std(): {np.std(height)}\\nweight.std(): {np.std(weight)}\\npopulation.std(): {np.std(population)}\")"
      ],
      "metadata": {
        "id": "_7kEMCQ1M17U",
        "colab": {
          "base_uri": "https://localhost:8080/"
        },
        "outputId": "b99be245-aade-4981-817b-20357f47e942"
      },
      "execution_count": 36,
      "outputs": [
        {
          "output_type": "stream",
          "name": "stdout",
          "text": [
            "height.std(): 0.19775331732298423\n",
            "weight.std(): 14.9200100024314\n",
            "population.std(): 31.003141484642004\n"
          ]
        }
      ]
    },
    {
      "cell_type": "markdown",
      "metadata": {
        "id": "tOsfNOAbWHGQ"
      },
      "source": [
        "**9. Find Total value of Each Array**\n",
        "\n",
        "Find the sum of each array: height, weight, population (ok if the numbers you find are not identical to those below)\n",
        "```\n",
        "# Expected Output\n",
        "height.sum() : 12219.789999999999\n",
        "weight.sum() : 422009.95\n",
        "population.sum() : 434229.74\n",
        "```"
      ]
    },
    {
      "cell_type": "code",
      "source": [
        "print(f\"height.sum(): {np.sum(height)}\\nweight.sum(): {np.sum(weight)}\\npopulation.sum(): {np.sum(population)}\")"
      ],
      "metadata": {
        "id": "TcP6CVnRM3C7",
        "colab": {
          "base_uri": "https://localhost:8080/"
        },
        "outputId": "23932b4e-9464-49d9-f0db-f1a018f4b548"
      },
      "execution_count": 37,
      "outputs": [
        {
          "output_type": "stream",
          "name": "stdout",
          "text": [
            "height.sum(): 12234.33\n",
            "weight.sum(): 420370.2\n",
            "population.sum(): 432604.53\n"
          ]
        }
      ]
    },
    {
      "cell_type": "markdown",
      "metadata": {
        "id": "J11tIVhEWfcI"
      },
      "source": [
        "**10. Create histograms of height and weight**"
      ]
    },
    {
      "cell_type": "code",
      "execution_count": null,
      "metadata": {
        "colab": {
          "base_uri": "https://localhost:8080/",
          "height": 3834
        },
        "id": "gOsaH1wYWsnl",
        "outputId": "16ff210c-6f29-45de-ddff-ba5cfee755c2"
      },
      "outputs": [
        {
          "name": "stdout",
          "output_type": "stream",
          "text": [
            "Help on function hist in module matplotlib.pyplot:\n",
            "\n",
            "hist(x, bins=None, range=None, density=None, weights=None, cumulative=False, bottom=None, histtype='bar', align='mid', orientation='vertical', rwidth=None, log=False, color=None, label=None, stacked=False, normed=None, *, data=None, **kwargs)\n",
            "    Plot a histogram.\n",
            "    \n",
            "    Compute and draw the histogram of *x*. The return value is a\n",
            "    tuple (*n*, *bins*, *patches*) or ([*n0*, *n1*, ...], *bins*,\n",
            "    [*patches0*, *patches1*,...]) if the input contains multiple\n",
            "    data.\n",
            "    \n",
            "    Multiple data can be provided via *x* as a list of datasets\n",
            "    of potentially different length ([*x0*, *x1*, ...]), or as\n",
            "    a 2-D ndarray in which each column is a dataset.  Note that\n",
            "    the ndarray form is transposed relative to the list form.\n",
            "    \n",
            "    Masked arrays are not supported at present.\n",
            "    \n",
            "    Parameters\n",
            "    ----------\n",
            "    x : (n,) array or sequence of (n,) arrays\n",
            "        Input values, this takes either a single array or a sequence of\n",
            "        arrays which are not required to be of the same length.\n",
            "    \n",
            "    bins : int or sequence or str, optional\n",
            "        If an integer is given, ``bins + 1`` bin edges are calculated and\n",
            "        returned, consistent with `numpy.histogram`.\n",
            "    \n",
            "        If `bins` is a sequence, gives bin edges, including left edge of\n",
            "        first bin and right edge of last bin.  In this case, `bins` is\n",
            "        returned unmodified.\n",
            "    \n",
            "        All but the last (righthand-most) bin is half-open.  In other\n",
            "        words, if `bins` is::\n",
            "    \n",
            "            [1, 2, 3, 4]\n",
            "    \n",
            "        then the first bin is ``[1, 2)`` (including 1, but excluding 2) and\n",
            "        the second ``[2, 3)``.  The last bin, however, is ``[3, 4]``, which\n",
            "        *includes* 4.\n",
            "    \n",
            "        Unequally spaced bins are supported if *bins* is a sequence.\n",
            "    \n",
            "        With Numpy 1.11 or newer, you can alternatively provide a string\n",
            "        describing a binning strategy, such as 'auto', 'sturges', 'fd',\n",
            "        'doane', 'scott', 'rice', 'sturges' or 'sqrt', see\n",
            "        `numpy.histogram`.\n",
            "    \n",
            "        The default is taken from :rc:`hist.bins`.\n",
            "    \n",
            "    range : tuple or None, optional\n",
            "        The lower and upper range of the bins. Lower and upper outliers\n",
            "        are ignored. If not provided, *range* is ``(x.min(), x.max())``.\n",
            "        Range has no effect if *bins* is a sequence.\n",
            "    \n",
            "        If *bins* is a sequence or *range* is specified, autoscaling\n",
            "        is based on the specified bin range instead of the\n",
            "        range of x.\n",
            "    \n",
            "        Default is ``None``\n",
            "    \n",
            "    density : bool, optional\n",
            "        If ``True``, the first element of the return tuple will\n",
            "        be the counts normalized to form a probability density, i.e.,\n",
            "        the area (or integral) under the histogram will sum to 1.\n",
            "        This is achieved by dividing the count by the number of\n",
            "        observations times the bin width and not dividing by the total\n",
            "        number of observations. If *stacked* is also ``True``, the sum of\n",
            "        the histograms is normalized to 1.\n",
            "    \n",
            "        Default is ``None`` for both *normed* and *density*. If either is\n",
            "        set, then that value will be used. If neither are set, then the\n",
            "        args will be treated as ``False``.\n",
            "    \n",
            "        If both *density* and *normed* are set an error is raised.\n",
            "    \n",
            "    weights : (n, ) array_like or None, optional\n",
            "        An array of weights, of the same shape as *x*.  Each value in *x*\n",
            "        only contributes its associated weight towards the bin count\n",
            "        (instead of 1).  If *normed* or *density* is ``True``,\n",
            "        the weights are normalized, so that the integral of the density\n",
            "        over the range remains 1.\n",
            "    \n",
            "        Default is ``None``\n",
            "    \n",
            "    cumulative : bool, optional\n",
            "        If ``True``, then a histogram is computed where each bin gives the\n",
            "        counts in that bin plus all bins for smaller values. The last bin\n",
            "        gives the total number of datapoints. If *normed* or *density*\n",
            "        is also ``True`` then the histogram is normalized such that the\n",
            "        last bin equals 1. If *cumulative* evaluates to less than 0\n",
            "        (e.g., -1), the direction of accumulation is reversed.\n",
            "        In this case, if *normed* and/or *density* is also ``True``, then\n",
            "        the histogram is normalized such that the first bin equals 1.\n",
            "    \n",
            "        Default is ``False``\n",
            "    \n",
            "    bottom : array_like, scalar, or None\n",
            "        Location of the bottom baseline of each bin.  If a scalar,\n",
            "        the base line for each bin is shifted by the same amount.\n",
            "        If an array, each bin is shifted independently and the length\n",
            "        of bottom must match the number of bins.  If None, defaults to 0.\n",
            "    \n",
            "        Default is ``None``\n",
            "    \n",
            "    histtype : {'bar', 'barstacked', 'step',  'stepfilled'}, optional\n",
            "        The type of histogram to draw.\n",
            "    \n",
            "        - 'bar' is a traditional bar-type histogram.  If multiple data\n",
            "          are given the bars are arranged side by side.\n",
            "    \n",
            "        - 'barstacked' is a bar-type histogram where multiple\n",
            "          data are stacked on top of each other.\n",
            "    \n",
            "        - 'step' generates a lineplot that is by default\n",
            "          unfilled.\n",
            "    \n",
            "        - 'stepfilled' generates a lineplot that is by default\n",
            "          filled.\n",
            "    \n",
            "        Default is 'bar'\n",
            "    \n",
            "    align : {'left', 'mid', 'right'}, optional\n",
            "        Controls how the histogram is plotted.\n",
            "    \n",
            "            - 'left': bars are centered on the left bin edges.\n",
            "    \n",
            "            - 'mid': bars are centered between the bin edges.\n",
            "    \n",
            "            - 'right': bars are centered on the right bin edges.\n",
            "    \n",
            "        Default is 'mid'\n",
            "    \n",
            "    orientation : {'horizontal', 'vertical'}, optional\n",
            "        If 'horizontal', `~matplotlib.pyplot.barh` will be used for\n",
            "        bar-type histograms and the *bottom* kwarg will be the left edges.\n",
            "    \n",
            "    rwidth : scalar or None, optional\n",
            "        The relative width of the bars as a fraction of the bin width.  If\n",
            "        ``None``, automatically compute the width.\n",
            "    \n",
            "        Ignored if *histtype* is 'step' or 'stepfilled'.\n",
            "    \n",
            "        Default is ``None``\n",
            "    \n",
            "    log : bool, optional\n",
            "        If ``True``, the histogram axis will be set to a log scale. If\n",
            "        *log* is ``True`` and *x* is a 1D array, empty bins will be\n",
            "        filtered out and only the non-empty ``(n, bins, patches)``\n",
            "        will be returned.\n",
            "    \n",
            "        Default is ``False``\n",
            "    \n",
            "    color : color or array_like of colors or None, optional\n",
            "        Color spec or sequence of color specs, one per dataset.  Default\n",
            "        (``None``) uses the standard line color sequence.\n",
            "    \n",
            "        Default is ``None``\n",
            "    \n",
            "    label : str or None, optional\n",
            "        String, or sequence of strings to match multiple datasets.  Bar\n",
            "        charts yield multiple patches per dataset, but only the first gets\n",
            "        the label, so that the legend command will work as expected.\n",
            "    \n",
            "        default is ``None``\n",
            "    \n",
            "    stacked : bool, optional\n",
            "        If ``True``, multiple data are stacked on top of each other If\n",
            "        ``False`` multiple data are arranged side by side if histtype is\n",
            "        'bar' or on top of each other if histtype is 'step'\n",
            "    \n",
            "        Default is ``False``\n",
            "    \n",
            "    normed : bool, optional\n",
            "        Deprecated; use the density keyword argument instead.\n",
            "    \n",
            "    Returns\n",
            "    -------\n",
            "    n : array or list of arrays\n",
            "        The values of the histogram bins. See *normed* or *density*\n",
            "        and *weights* for a description of the possible semantics.\n",
            "        If input *x* is an array, then this is an array of length\n",
            "        *nbins*. If input is a sequence of arrays\n",
            "        ``[data1, data2,..]``, then this is a list of arrays with\n",
            "        the values of the histograms for each of the arrays in the\n",
            "        same order.\n",
            "    \n",
            "    bins : array\n",
            "        The edges of the bins. Length nbins + 1 (nbins left edges and right\n",
            "        edge of last bin).  Always a single array even when multiple data\n",
            "        sets are passed in.\n",
            "    \n",
            "    patches : list or list of lists\n",
            "        Silent list of individual patches used to create the histogram\n",
            "        or list of such list if multiple input datasets.\n",
            "    \n",
            "    Other Parameters\n",
            "    ----------------\n",
            "    **kwargs : `~matplotlib.patches.Patch` properties\n",
            "    \n",
            "    See also\n",
            "    --------\n",
            "    hist2d : 2D histograms\n",
            "    \n",
            "    Notes\n",
            "    -----\n",
            "    .. [Notes section required for data comment. See #10189.]\n",
            "    \n",
            "    .. note::\n",
            "        In addition to the above described arguments, this function can take a\n",
            "        **data** keyword argument. If such a **data** argument is given, the\n",
            "        following arguments are replaced by **data[<arg>]**:\n",
            "    \n",
            "        * All arguments with the following names: 'weights', 'x'.\n",
            "    \n",
            "        Objects passed as **data** must support item access (``data[<arg>]``) and\n",
            "        membership test (``<arg> in data``).\n",
            "\n"
          ]
        }
      ],
      "source": [
        "help(plt.hist)"
      ]
    },
    {
      "cell_type": "code",
      "source": [
        "# Create a figure with two subplots (1 row, 2 columns)\n",
        "fig, axs = plt.subplots(1, 2, figsize=(12, 5))\n",
        "\n",
        "# Plot the first histogram (height)\n",
        "axs[0].hist(height, bins=30, alpha=0.7, color='blue', edgecolor=\"grey\")\n",
        "axs[0].set_title('Height Distribution')\n",
        "axs[0].set_xlabel('Height (m)')\n",
        "axs[0].set_ylabel('Frequency')\n",
        "\n",
        "# Plot the second histogram (weight)\n",
        "axs[1].hist(weight, bins=30, alpha=0.7, color='green', edgecolor=\"grey\")\n",
        "axs[1].set_title('Weight Distribution')\n",
        "axs[1].set_xlabel('Weight (kg)')\n",
        "axs[1].set_ylabel('Frequency')\n",
        "\n",
        "# Adjust layout to prevent overlap\n",
        "plt.tight_layout()\n",
        "\n",
        "plt.show()"
      ],
      "metadata": {
        "id": "UrcqngZ-G-re",
        "colab": {
          "base_uri": "https://localhost:8080/",
          "height": 507
        },
        "outputId": "b8f6a02c-01b5-41b7-f1a6-b34608b23e0c"
      },
      "execution_count": 50,
      "outputs": [
        {
          "output_type": "display_data",
          "data": {
            "text/plain": [
              "<Figure size 1200x500 with 2 Axes>"
            ],
            "image/png": "[encoded data removed]"
          },
          "metadata": {}
        }
      ]
    },
    {
      "cell_type": "markdown",
      "metadata": {
        "id": "cfT_iKnKW4K0"
      },
      "source": [
        "**11. Create separate boxplots of height and weight**"
      ]
    },
    {
      "cell_type": "code",
      "execution_count": null,
      "metadata": {
        "colab": {
          "base_uri": "https://localhost:8080/",
          "height": 3222
        },
        "id": "PZbswA3fXQSL",
        "outputId": "2256b909-9b78-4e08-bc33-40d5aa2926af"
      },
      "outputs": [
        {
          "name": "stdout",
          "output_type": "stream",
          "text": [
            "Help on function boxplot in module matplotlib.pyplot:\n",
            "\n",
            "boxplot(x, notch=None, sym=None, vert=None, whis=None, positions=None, widths=None, patch_artist=None, bootstrap=None, usermedians=None, conf_intervals=None, meanline=None, showmeans=None, showcaps=None, showbox=None, showfliers=None, boxprops=None, labels=None, flierprops=None, medianprops=None, meanprops=None, capprops=None, whiskerprops=None, manage_xticks=True, autorange=False, zorder=None, *, data=None)\n",
            "    Make a box and whisker plot.\n",
            "    \n",
            "    Make a box and whisker plot for each column of ``x`` or each\n",
            "    vector in sequence ``x``.  The box extends from the lower to\n",
            "    upper quartile values of the data, with a line at the median.\n",
            "    The whiskers extend from the box to show the range of the\n",
            "    data.  Flier points are those past the end of the whiskers.\n",
            "    \n",
            "    Parameters\n",
            "    ----------\n",
            "    x : Array or a sequence of vectors.\n",
            "        The input data.\n",
            "    \n",
            "    notch : bool, optional (False)\n",
            "        If `True`, will produce a notched box plot. Otherwise, a\n",
            "        rectangular boxplot is produced. The notches represent the\n",
            "        confidence interval (CI) around the median. See the entry\n",
            "        for the ``bootstrap`` parameter for information regarding\n",
            "        how the locations of the notches are computed.\n",
            "    \n",
            "        .. note::\n",
            "    \n",
            "            In cases where the values of the CI are less than the\n",
            "            lower quartile or greater than the upper quartile, the\n",
            "            notches will extend beyond the box, giving it a\n",
            "            distinctive \"flipped\" appearance. This is expected\n",
            "            behavior and consistent with other statistical\n",
            "            visualization packages.\n",
            "    \n",
            "    sym : str, optional\n",
            "        The default symbol for flier points. Enter an empty string\n",
            "        ('') if you don't want to show fliers. If `None`, then the\n",
            "        fliers default to 'b+'  If you want more control use the\n",
            "        flierprops kwarg.\n",
            "    \n",
            "    vert : bool, optional (True)\n",
            "        If `True` (default), makes the boxes vertical. If `False`,\n",
            "        everything is drawn horizontally.\n",
            "    \n",
            "    whis : float, sequence, or string (default = 1.5)\n",
            "        As a float, determines the reach of the whiskers to the beyond the\n",
            "        first and third quartiles. In other words, where IQR is the\n",
            "        interquartile range (`Q3-Q1`), the upper whisker will extend to\n",
            "        last datum less than `Q3 + whis*IQR`). Similarly, the lower whisker\n",
            "        will extend to the first datum greater than `Q1 - whis*IQR`.\n",
            "        Beyond the whiskers, data\n",
            "        are considered outliers and are plotted as individual\n",
            "        points. Set this to an unreasonably high value to force the\n",
            "        whiskers to show the min and max values. Alternatively, set\n",
            "        this to an ascending sequence of percentile (e.g., [5, 95])\n",
            "        to set the whiskers at specific percentiles of the data.\n",
            "        Finally, ``whis`` can be the string ``'range'`` to force the\n",
            "        whiskers to the min and max of the data.\n",
            "    \n",
            "    bootstrap : int, optional\n",
            "        Specifies whether to bootstrap the confidence intervals\n",
            "        around the median for notched boxplots. If ``bootstrap`` is\n",
            "        None, no bootstrapping is performed, and notches are\n",
            "        calculated using a Gaussian-based asymptotic approximation\n",
            "        (see McGill, R., Tukey, J.W., and Larsen, W.A., 1978, and\n",
            "        Kendall and Stuart, 1967). Otherwise, bootstrap specifies\n",
            "        the number of times to bootstrap the median to determine its\n",
            "        95% confidence intervals. Values between 1000 and 10000 are\n",
            "        recommended.\n",
            "    \n",
            "    usermedians : array-like, optional\n",
            "        An array or sequence whose first dimension (or length) is\n",
            "        compatible with ``x``. This overrides the medians computed\n",
            "        by matplotlib for each element of ``usermedians`` that is not\n",
            "        `None`. When an element of ``usermedians`` is None, the median\n",
            "        will be computed by matplotlib as normal.\n",
            "    \n",
            "    conf_intervals : array-like, optional\n",
            "        Array or sequence whose first dimension (or length) is\n",
            "        compatible with ``x`` and whose second dimension is 2. When\n",
            "        the an element of ``conf_intervals`` is not None, the\n",
            "        notch locations computed by matplotlib are overridden\n",
            "        (provided ``notch`` is `True`). When an element of\n",
            "        ``conf_intervals`` is `None`, the notches are computed by the\n",
            "        method specified by the other kwargs (e.g., ``bootstrap``).\n",
            "    \n",
            "    positions : array-like, optional\n",
            "        Sets the positions of the boxes. The ticks and limits are\n",
            "        automatically set to match the positions. Defaults to\n",
            "        `range(1, N+1)` where N is the number of boxes to be drawn.\n",
            "    \n",
            "    widths : scalar or array-like\n",
            "        Sets the width of each box either with a scalar or a\n",
            "        sequence. The default is 0.5, or ``0.15*(distance between\n",
            "        extreme positions)``, if that is smaller.\n",
            "    \n",
            "    patch_artist : bool, optional (False)\n",
            "        If `False` produces boxes with the Line2D artist. Otherwise,\n",
            "        boxes and drawn with Patch artists.\n",
            "    \n",
            "    labels : sequence, optional\n",
            "        Labels for each dataset. Length must be compatible with\n",
            "        dimensions of ``x``.\n",
            "    \n",
            "    manage_xticks : bool, optional (True)\n",
            "        If the function should adjust the xlim and xtick locations.\n",
            "    \n",
            "    autorange : bool, optional (False)\n",
            "        When `True` and the data are distributed such that the 25th and\n",
            "        75th percentiles are equal, ``whis`` is set to ``'range'`` such\n",
            "        that the whisker ends are at the minimum and maximum of the data.\n",
            "    \n",
            "    meanline : bool, optional (False)\n",
            "        If `True` (and ``showmeans`` is `True`), will try to render\n",
            "        the mean as a line spanning the full width of the box\n",
            "        according to ``meanprops`` (see below). Not recommended if\n",
            "        ``shownotches`` is also True. Otherwise, means will be shown\n",
            "        as points.\n",
            "    \n",
            "    zorder : scalar, optional (None)\n",
            "        Sets the zorder of the boxplot.\n",
            "    \n",
            "    Other Parameters\n",
            "    ----------------\n",
            "    showcaps : bool, optional (True)\n",
            "        Show the caps on the ends of whiskers.\n",
            "    showbox : bool, optional (True)\n",
            "        Show the central box.\n",
            "    showfliers : bool, optional (True)\n",
            "        Show the outliers beyond the caps.\n",
            "    showmeans : bool, optional (False)\n",
            "        Show the arithmetic means.\n",
            "    capprops : dict, optional (None)\n",
            "        Specifies the style of the caps.\n",
            "    boxprops : dict, optional (None)\n",
            "        Specifies the style of the box.\n",
            "    whiskerprops : dict, optional (None)\n",
            "        Specifies the style of the whiskers.\n",
            "    flierprops : dict, optional (None)\n",
            "        Specifies the style of the fliers.\n",
            "    medianprops : dict, optional (None)\n",
            "        Specifies the style of the median.\n",
            "    meanprops : dict, optional (None)\n",
            "        Specifies the style of the mean.\n",
            "    \n",
            "    Returns\n",
            "    -------\n",
            "    result : dict\n",
            "      A dictionary mapping each component of the boxplot to a list\n",
            "      of the :class:`matplotlib.lines.Line2D` instances\n",
            "      created. That dictionary has the following keys (assuming\n",
            "      vertical boxplots):\n",
            "    \n",
            "      - ``boxes``: the main body of the boxplot showing the\n",
            "        quartiles and the median's confidence intervals if\n",
            "        enabled.\n",
            "    \n",
            "      - ``medians``: horizontal lines at the median of each box.\n",
            "    \n",
            "      - ``whiskers``: the vertical lines extending to the most\n",
            "        extreme, non-outlier data points.\n",
            "    \n",
            "      - ``caps``: the horizontal lines at the ends of the\n",
            "        whiskers.\n",
            "    \n",
            "      - ``fliers``: points representing data that extend beyond\n",
            "        the whiskers (fliers).\n",
            "    \n",
            "      - ``means``: points or lines representing the means.\n",
            "    \n",
            "    Notes\n",
            "    -----\n",
            "    .. [Notes section required for data comment. See #10189.]\n",
            "    \n",
            "    .. note::\n",
            "        In addition to the above described arguments, this function can take a\n",
            "        **data** keyword argument. If such a **data** argument is given, the\n",
            "        following arguments are replaced by **data[<arg>]**:\n",
            "    \n",
            "        * All positional and all keyword arguments.\n",
            "    \n",
            "        Objects passed as **data** must support item access (``data[<arg>]``) and\n",
            "        membership test (``<arg> in data``).\n",
            "\n"
          ]
        }
      ],
      "source": [
        "help(plt.boxplot)"
      ]
    },
    {
      "cell_type": "code",
      "source": [
        "# Create a figure with two subplots (1 row, 2 columns)\n",
        "fig, axs = plt.subplots(1, 2, figsize=(12, 5))\n",
        "# Plot the first boxplot (height)\n",
        "axs[0].boxplot(height)\n",
        "axs[0].set_title('Height Distribution')\n",
        "axs[0].set_ylabel('Height (m)')\n",
        "\n",
        "\n",
        "# Plot the first boxplot (weight)\n",
        "axs[1].boxplot(weight)\n",
        "axs[1].set_title('Weight Distribution')\n",
        "axs[1].set_ylabel('Weight (kg)')\n",
        "\n",
        "plt.tight_layout()\n",
        "plt.show()"
      ],
      "metadata": {
        "id": "NPAXeJM7HAj8",
        "colab": {
          "base_uri": "https://localhost:8080/",
          "height": 507
        },
        "outputId": "402fa840-288a-416a-ee2e-40939ece47b1"
      },
      "execution_count": 56,
      "outputs": [
        {
          "output_type": "display_data",
          "data": {
            "text/plain": [
              "<Figure size 1200x500 with 2 Axes>"
            ],
            "image/png": "[encoded data removed]"
          },
          "metadata": {}
        }
      ]
    },
    {
      "cell_type": "markdown",
      "metadata": {
        "id": "b-6Hr9dSXD2L"
      },
      "source": [
        "**12. Create a scatterplot of height and weight**"
      ]
    },
    {
      "cell_type": "code",
      "execution_count": null,
      "metadata": {
        "colab": {
          "base_uri": "https://localhost:8080/",
          "height": 2029
        },
        "id": "S3l7S_qBXUT2",
        "outputId": "1a4753f4-e695-484f-9469-4eb5ff2ceafe"
      },
      "outputs": [
        {
          "name": "stdout",
          "output_type": "stream",
          "text": [
            "Help on function scatter in module matplotlib.pyplot:\n",
            "\n",
            "scatter(x, y, s=None, c=None, marker=None, cmap=None, norm=None, vmin=None, vmax=None, alpha=None, linewidths=None, verts=None, edgecolors=None, *, data=None, **kwargs)\n",
            "    A scatter plot of *y* vs *x* with varying marker size and/or color.\n",
            "    \n",
            "    Parameters\n",
            "    ----------\n",
            "    x, y : array_like, shape (n, )\n",
            "        The data positions.\n",
            "    \n",
            "    s : scalar or array_like, shape (n, ), optional\n",
            "        The marker size in points**2.\n",
            "        Default is ``rcParams['lines.markersize'] ** 2``.\n",
            "    \n",
            "    c : color, sequence, or sequence of color, optional\n",
            "        The marker color. Possible values:\n",
            "    \n",
            "        - A single color format string.\n",
            "        - A sequence of color specifications of length n.\n",
            "        - A sequence of n numbers to be mapped to colors using *cmap* and\n",
            "          *norm*.\n",
            "        - A 2-D array in which the rows are RGB or RGBA.\n",
            "    \n",
            "        Note that *c* should not be a single numeric RGB or RGBA sequence\n",
            "        because that is indistinguishable from an array of values to be\n",
            "        colormapped. If you want to specify the same RGB or RGBA value for\n",
            "        all points, use a 2-D array with a single row.  Otherwise, value-\n",
            "        matching will have precedence in case of a size matching with *x*\n",
            "        and *y*.\n",
            "    \n",
            "        Defaults to ``None``. In that case the marker color is determined\n",
            "        by the value of ``color``, ``facecolor`` or ``facecolors``. In case\n",
            "        those are not specified or ``None``, the marker color is determined\n",
            "        by the next color of the ``Axes``' current \"shape and fill\" color\n",
            "        cycle. This cycle defaults to :rc:`axes.prop_cycle`.\n",
            "    \n",
            "    marker : `~matplotlib.markers.MarkerStyle`, optional\n",
            "        The marker style. *marker* can be either an instance of the class\n",
            "        or the text shorthand for a particular marker.\n",
            "        Defaults to ``None``, in which case it takes the value of\n",
            "        :rc:`scatter.marker` = 'o'.\n",
            "        See `~matplotlib.markers` for more information about marker styles.\n",
            "    \n",
            "    cmap : `~matplotlib.colors.Colormap`, optional, default: None\n",
            "        A `.Colormap` instance or registered colormap name. *cmap* is only\n",
            "        used if *c* is an array of floats. If ``None``, defaults to rc\n",
            "        ``image.cmap``.\n",
            "    \n",
            "    norm : `~matplotlib.colors.Normalize`, optional, default: None\n",
            "        A `.Normalize` instance is used to scale luminance data to 0, 1.\n",
            "        *norm* is only used if *c* is an array of floats. If *None*, use\n",
            "        the default `.colors.Normalize`.\n",
            "    \n",
            "    vmin, vmax : scalar, optional, default: None\n",
            "        *vmin* and *vmax* are used in conjunction with *norm* to normalize\n",
            "        luminance data. If None, the respective min and max of the color\n",
            "        array is used. *vmin* and *vmax* are ignored if you pass a *norm*\n",
            "        instance.\n",
            "    \n",
            "    alpha : scalar, optional, default: None\n",
            "        The alpha blending value, between 0 (transparent) and 1 (opaque).\n",
            "    \n",
            "    linewidths : scalar or array_like, optional, default: None\n",
            "        The linewidth of the marker edges. Note: The default *edgecolors*\n",
            "        is 'face'. You may want to change this as well.\n",
            "        If *None*, defaults to rcParams ``lines.linewidth``.\n",
            "    \n",
            "    edgecolors : color or sequence of color, optional, default: 'face'\n",
            "        The edge color of the marker. Possible values:\n",
            "    \n",
            "        - 'face': The edge color will always be the same as the face color.\n",
            "        - 'none': No patch boundary will be drawn.\n",
            "        - A matplotib color.\n",
            "    \n",
            "        For non-filled markers, the *edgecolors* kwarg is ignored and\n",
            "        forced to 'face' internally.\n",
            "    \n",
            "    Returns\n",
            "    -------\n",
            "    paths : `~matplotlib.collections.PathCollection`\n",
            "    \n",
            "    Other Parameters\n",
            "    ----------------\n",
            "    **kwargs : `~matplotlib.collections.Collection` properties\n",
            "    \n",
            "    See Also\n",
            "    --------\n",
            "    plot : To plot scatter plots when markers are identical in size and\n",
            "        color.\n",
            "    \n",
            "    Notes\n",
            "    -----\n",
            "    \n",
            "    * The `.plot` function will be faster for scatterplots where markers\n",
            "      don't vary in size or color.\n",
            "    \n",
            "    * Any or all of *x*, *y*, *s*, and *c* may be masked arrays, in which\n",
            "      case all masks will be combined and only unmasked points will be\n",
            "      plotted.\n",
            "    \n",
            "    * Fundamentally, scatter works with 1-D arrays; *x*, *y*, *s*, and *c*\n",
            "      may be input as 2-D arrays, but within scatter they will be\n",
            "      flattened. The exception is *c*, which will be flattened only if its\n",
            "      size matches the size of *x* and *y*.\n",
            "    \n",
            "    .. note::\n",
            "        In addition to the above described arguments, this function can take a\n",
            "        **data** keyword argument. If such a **data** argument is given, the\n",
            "        following arguments are replaced by **data[<arg>]**:\n",
            "    \n",
            "        * All arguments with the following names: 'c', 'color', 'edgecolors', 'facecolor', 'facecolors', 'linewidths', 's', 'x', 'y'.\n",
            "    \n",
            "        Objects passed as **data** must support item access (``data[<arg>]``) and\n",
            "        membership test (``<arg> in data``).\n",
            "\n"
          ]
        }
      ],
      "source": [
        "help(plt.scatter)"
      ]
    },
    {
      "cell_type": "code",
      "source": [
        "plt.scatter(weight, height, alpha=0.5)\n",
        "plt.xlabel(\"Weight (kg)\")\n",
        "plt.ylabel(\"Height (m)\")\n",
        "plt.show()"
      ],
      "metadata": {
        "id": "NK2nPSncHCOW",
        "colab": {
          "base_uri": "https://localhost:8080/",
          "height": 449
        },
        "outputId": "111c076e-8bb7-44de-d76f-926e410f1070"
      },
      "execution_count": 61,
      "outputs": [
        {
          "output_type": "display_data",
          "data": {
            "text/plain": [
              "<Figure size 640x480 with 1 Axes>"
            ],
            "image/png": "[encoded data removed]"
          },
          "metadata": {}
        }
      ]
    },
    {
      "cell_type": "markdown",
      "metadata": {
        "id": "uwAr9EqbpZwg"
      },
      "source": [
        "\n",
        "\n",
        "---\n",
        "\n",
        "\n",
        "\n",
        "---\n",
        "\n",
        "\n",
        "\n",
        "> > > > > > > > > © 2024 Institute of Data\n",
        "\n",
        "\n",
        "---\n",
        "\n",
        "\n",
        "\n",
        "---\n",
        "\n",
        "\n",
        "\n"
      ]
    }
  ],
  "metadata": {
    "colab": {
      "provenance": [],
      "include_colab_link": true
    },
    "kernelspec": {
      "display_name": "Python 3",
      "language": "python",
      "name": "python3"
    },
    "language_info": {
      "codemirror_mode": {
        "name": "ipython",
        "version": 3
      },
      "file_extension": ".py",
      "mimetype": "text/x-python",
      "name": "python",
      "nbconvert_exporter": "python",
      "pygments_lexer": "ipython3",
      "version": "3.8.5"
    }
  },
  "nbformat": 4,
  "nbformat_minor": 0
}