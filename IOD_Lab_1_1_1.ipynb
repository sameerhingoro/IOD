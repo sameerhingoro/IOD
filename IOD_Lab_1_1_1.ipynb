{
  "cells": [
    {
      "cell_type": "markdown",
      "metadata": {
        "id": "view-in-github",
        "colab_type": "text"
      },
      "source": [
        "<a href=\"https://colab.research.google.com/github/sameerhingoro/IOD/blob/main/IOD_Lab_1_1_1.ipynb\" target=\"_parent\"><img src=\"https://colab.research.google.com/assets/colab-badge.svg\" alt=\"Open In Colab\"/></a>"
      ]
    },
    {
      "cell_type": "markdown",
      "metadata": {
        "id": "7KeNKtNL2Ix-"
      },
      "source": [
        "<div>\n",
        "<img src=https://www.institutedata.com/wp-content/uploads/2019/10/iod_h_tp_primary_c.svg width=\"300\">\n",
        "</div>\n",
        "\n",
        "# Python - Lab 1.1.1\n",
        "\n",
        "## Learning objectives\n",
        "\n",
        "This lab provides practice in:\n",
        "\n",
        "1. Creating and manipulating lists\n",
        "2. For loops\n",
        "3. Creating dictionaries\n",
        "4. Importing modules and functions\n",
        "5. Plotting line, bar, and histogram charts using `matplotlib`\n",
        "6. Simple customisations when creating visualisations\n",
        "7. Using the `pandas` module for data import and analysis\n",
        "8. Using the `seaborn` module for data visualisation\n",
        "\n",
        "## Instructions:\n",
        "\n",
        "1. Replace ??? with the appropriate code\n",
        "2. Press Shift + Enter to execute cell\n",
        "\n"
      ]
    },
    {
      "cell_type": "markdown",
      "source": [
        "This is an example cell for text."
      ],
      "metadata": {
        "id": "HZ_JC2K58kco"
      }
    },
    {
      "cell_type": "code",
      "source": [
        "# This is an example cell for code."
      ],
      "metadata": {
        "id": "G34nwJwe8iW3"
      },
      "execution_count": null,
      "outputs": []
    },
    {
      "cell_type": "markdown",
      "source": [
        "## Working with lists"
      ],
      "metadata": {
        "id": "f23h5k2XBGiY"
      }
    },
    {
      "cell_type": "code",
      "execution_count": null,
      "metadata": {
        "id": "NaRcNY1l2LbD"
      },
      "outputs": [],
      "source": [
        "# below is a list of 10 students (using just first name)\n",
        "students = ['Alice','Ben','Cathy','Dawn','Emily','Fern','Emma','Sean','Felix','Hugh']"
      ]
    },
    {
      "cell_type": "code",
      "execution_count": null,
      "metadata": {
        "id": "lyMlOgoUZ2R4",
        "outputId": "cc41f1c0-ecc1-44f5-e430-f9fbc472ea49",
        "colab": {
          "base_uri": "https://localhost:8080/"
        }
      },
      "outputs": [
        {
          "output_type": "stream",
          "name": "stdout",
          "text": [
            "['Alice', 'Ben', 'Cathy', 'Dawn', 'Emily', 'Fern', 'Emma', 'Sean', 'Felix', 'Hugh']\n"
          ]
        }
      ],
      "source": [
        "# Print the list\n",
        "print(students)"
      ]
    },
    {
      "cell_type": "code",
      "execution_count": null,
      "metadata": {
        "id": "LtbLA_T811kr",
        "outputId": "d3de6eef-446f-4ab7-f16e-cc0caf3dd54b",
        "colab": {
          "base_uri": "https://localhost:8080/"
        }
      },
      "outputs": [
        {
          "output_type": "stream",
          "name": "stdout",
          "text": [
            "Index: 1 Alice\n",
            "Index: 2 Ben\n",
            "Index: 3 Cathy\n",
            "Index: 4 Dawn\n",
            "Index: 5 Emily\n",
            "Index: 6 Fern\n",
            "Index: 7 Emma\n",
            "Index: 8 Sean\n",
            "Index: 9 Felix\n",
            "Index: 10 Hugh\n"
          ]
        }
      ],
      "source": [
        "# Print the list of students in the following format\n",
        "# Index 01 \t Alice\n",
        "# Index 02 \t Ben\n",
        "# Index 03 \t Cathy\n",
        "# ...\n",
        "for i, student in enumerate(students, start=1):\n",
        "    print(f'Index: {i} {student}')"
      ]
    },
    {
      "cell_type": "code",
      "execution_count": null,
      "metadata": {
        "id": "OF5sj3CX1lHl",
        "outputId": "04e342b6-14a6-421a-c01a-c84c0e14b3e1",
        "colab": {
          "base_uri": "https://localhost:8080/"
        }
      },
      "outputs": [
        {
          "output_type": "stream",
          "name": "stdout",
          "text": [
            "Hugh\n",
            "Felix\n",
            "Sean\n",
            "Emma\n",
            "Fern\n",
            "Emily\n",
            "Dawn\n",
            "Cathy\n",
            "Ben\n",
            "Alice\n"
          ]
        }
      ],
      "source": [
        "# print the list of students in reverse order one student in a line with its index\n",
        "# google search how to print list in reverse order\n",
        "students = ['Alice','Ben','Cathy','Dawn','Emily','Fern','Emma','Sean','Felix','Hugh']\n",
        "for student in (reversed(students)):\n",
        "    print(student)"
      ]
    },
    {
      "cell_type": "code",
      "execution_count": null,
      "metadata": {
        "id": "eAdtim4G1pyV",
        "outputId": "fda2a965-2940-4fb5-e209-282ce13dcc54",
        "colab": {
          "base_uri": "https://localhost:8080/"
        }
      },
      "outputs": [
        {
          "output_type": "stream",
          "name": "stdout",
          "text": [
            "['Hugh', 'Dawn', 'Emily', 'Fern', 'Emma', 'Sean', 'Cathy', 'Alice', 'Ben', 'Felix']\n"
          ]
        }
      ],
      "source": [
        "# print the student list in random order\n",
        "# hint look up the function random.sample\n",
        "import random\n",
        "random_student_list = random.sample(students, len(students))\n",
        "print(random_student_list)"
      ]
    },
    {
      "cell_type": "code",
      "execution_count": null,
      "metadata": {
        "id": "sfKkL5dt1tqG",
        "colab": {
          "base_uri": "https://localhost:8080/"
        },
        "outputId": "0624abca-d0e6-46ad-b4ee-277baa8a8f9a"
      },
      "outputs": [
        {
          "output_type": "stream",
          "name": "stdout",
          "text": [
            "Students and their marks: \n",
            " {'Alice': 87, 'Ben': 45, 'Cathy': 76, 'Dawn': 64, 'Emily': 66, 'Fern': 90, 'Emma': 55, 'Sean': 73, 'Felix': 69, 'Hugh': 75}\n",
            "\n",
            " After Sorting the list:\n",
            "['fern', 'alice', 'cathy', 'hugh', 'sean', 'felix', 'emily', 'dawn', 'emma', 'ben']\n"
          ]
        }
      ],
      "source": [
        "# list students in decreasing order of their exam marks given their marks below\n",
        "# hint: look up the 'sorted' function\n",
        "marks = [87,45,76,64,66,90,55,73,69,75]\n",
        "studentsAndMarks = dict(zip(students,marks))\n",
        "print(f\"Students and their marks: \\n {studentsAndMarks}\")\n",
        "#\n",
        "print(f\"\\n After Sorting the list:\")\n",
        "sorted_students = [student.lower() for student, mark in sorted(studentsAndMarks.items(), key=lambda item: item[1], reverse=True)]\n",
        "\n",
        "print(sorted_students)"
      ]
    },
    {
      "cell_type": "code",
      "source": [
        "#desired output:"
      ],
      "metadata": {
        "colab": {
          "base_uri": "https://localhost:8080/"
        },
        "id": "IPQQHA2h_MrC",
        "outputId": "ec8ff5c1-c702-43c1-90e2-421cf9130eb5"
      },
      "execution_count": null,
      "outputs": [
        {
          "output_type": "execute_result",
          "data": {
            "text/plain": [
              "['fern',\n",
              " 'alice',\n",
              " 'cathy',\n",
              " 'hugh',\n",
              " 'sean',\n",
              " 'felix',\n",
              " 'emily',\n",
              " 'dawn',\n",
              " 'emma',\n",
              " 'ben']"
            ]
          },
          "metadata": {},
          "execution_count": 7
        }
      ]
    },
    {
      "cell_type": "markdown",
      "source": [
        "## Using matplotlib"
      ],
      "metadata": {
        "id": "D8OrPDV39LLc"
      }
    },
    {
      "cell_type": "code",
      "source": [
        "import numpy as np\n",
        "import matplotlib.pyplot as plt\n",
        "\n",
        "# Create a set of x values\n",
        "x = np.linspace(0, 10, 101)\n",
        "# Print the inputs\n",
        "print(x)"
      ],
      "metadata": {
        "colab": {
          "base_uri": "https://localhost:8080/"
        },
        "id": "Qd1HkoOy9X3y",
        "outputId": "4bea4515-2e14-41f3-ff38-880bbae26d17"
      },
      "execution_count": null,
      "outputs": [
        {
          "output_type": "stream",
          "name": "stdout",
          "text": [
            "[ 0.   0.1  0.2  0.3  0.4  0.5  0.6  0.7  0.8  0.9  1.   1.1  1.2  1.3\n",
            "  1.4  1.5  1.6  1.7  1.8  1.9  2.   2.1  2.2  2.3  2.4  2.5  2.6  2.7\n",
            "  2.8  2.9  3.   3.1  3.2  3.3  3.4  3.5  3.6  3.7  3.8  3.9  4.   4.1\n",
            "  4.2  4.3  4.4  4.5  4.6  4.7  4.8  4.9  5.   5.1  5.2  5.3  5.4  5.5\n",
            "  5.6  5.7  5.8  5.9  6.   6.1  6.2  6.3  6.4  6.5  6.6  6.7  6.8  6.9\n",
            "  7.   7.1  7.2  7.3  7.4  7.5  7.6  7.7  7.8  7.9  8.   8.1  8.2  8.3\n",
            "  8.4  8.5  8.6  8.7  8.8  8.9  9.   9.1  9.2  9.3  9.4  9.5  9.6  9.7\n",
            "  9.8  9.9 10. ]\n"
          ]
        }
      ]
    },
    {
      "cell_type": "code",
      "source": [
        "# Create a figure using plt.figure\n",
        "#fig = plt.figure()\n",
        "# Plot the sine of x\n",
        "plt.plot(x, np.sin(x), '-')\n",
        "# Plot the cosine of x\n",
        "plt.plot(x, np.cos(x), '.')\n",
        "plt.show()"
      ],
      "metadata": {
        "colab": {
          "base_uri": "https://localhost:8080/",
          "height": 447
        },
        "id": "uZui6ynK9FTK",
        "outputId": "ee908095-8c78-4e57-a193-77de53012d8f"
      },
      "execution_count": null,
      "outputs": [
        {
          "output_type": "execute_result",
          "data": {
            "text/plain": [
              "[<matplotlib.lines.Line2D at 0x7ba39009f4c0>]"
            ]
          },
          "metadata": {},
          "execution_count": 1
        },
        {
          "output_type": "display_data",
          "data": {
            "text/plain": [
              "<Figure size 640x480 with 1 Axes>"
            ],
            "image/png": "[encoded data removed]"
          },
          "metadata": {}
        }
      ]
    },
    {
      "cell_type": "markdown",
      "source": [
        "## Plotting bar charts"
      ],
      "metadata": {
        "id": "K-d9J1FD-L5-"
      }
    },
    {
      "cell_type": "code",
      "source": [
        "# Create two lists of 5 arbitrary numbers\n",
        "array1 = [2, 7, 1, 9, 4]\n",
        "array2 = [5, 3, 8, 6, 0]\n",
        "\n",
        "# Plot two bar charts using plt.bar and the lists you've created above\n",
        "# Label them \"Example one\" and \"example two\"\n",
        "# X-axis values\n",
        "x = np.array([0, 1, 2, 4, 5])\n",
        "plt.bar(np.arange(2*len(array1))[::2]+1, array1, label=\"Example one\", width=0.4)\n",
        "plt.bar(np.arange(2*len(array1))[::2], array2, label=\"Example two\", color='g', width=0.4)\n",
        "\n",
        "plt.legend()\n",
        "# Label x axis \"Bar number\"\n",
        "plt.xlabel('X')\n",
        "# Label y axis \"Bar height\"\n",
        "plt.ylabel('Y')\n",
        "# Set title \"Bar Graph\"\n",
        "plt.title(\"Bar Graph\")\n",
        "# Show the chart\n",
        "plt.show()"
      ],
      "metadata": {
        "id": "jrntbIKZ9pTz",
        "colab": {
          "base_uri": "https://localhost:8080/",
          "height": 472
        },
        "outputId": "4824c29b-1eb0-4d18-c393-95d1acffb3e1"
      },
      "execution_count": 51,
      "outputs": [
        {
          "output_type": "display_data",
          "data": {
            "text/plain": [
              "<Figure size 640x480 with 1 Axes>"
            ],
            "image/png": "[encoded data removed]"
          },
          "metadata": {}
        }
      ]
    },
    {
      "cell_type": "markdown",
      "source": [
        "Run the following two cells to understand the inputs of the plt.bar function above."
      ],
      "metadata": {
        "id": "wDqLvipU99wJ"
      }
    },
    {
      "cell_type": "code",
      "source": [
        "np.arange(2*len(array1))[::2]"
      ],
      "metadata": {
        "id": "1Dsdudva94r7"
      },
      "execution_count": null,
      "outputs": []
    },
    {
      "cell_type": "code",
      "source": [
        "np.arange(2*len(array1))[::2]+1"
      ],
      "metadata": {
        "id": "2YEgG_z195Yn"
      },
      "execution_count": null,
      "outputs": []
    },
    {
      "cell_type": "code",
      "source": [
        "# Histogram Code\n",
        "# Create an array of a random Laplace distribution (a type of random number generator)\n",
        "random_numbers = np.random.laplace(loc=15, scale=3, size=100)\n",
        "# Create a histogram using plt.hist()\n",
        "n, bins, patches = plt.hist(x=random_numbers, bins='auto', color='#0504aa',\n",
        "                            alpha=0.7, rwidth=0.85)\n",
        "# Set grid for x and y\n",
        "# set transperancy of the grid using alpha=0.5\n",
        "plt.grid(axis='x', alpha=0.5)\n",
        "plt.grid(axis='y', alpha=0.5)\n",
        "plt.xlabel('Value')\n",
        "plt.ylabel('Frequency')\n",
        "plt.title('My First Histogram Ever')\n",
        "plt.text(23, 45, r'$\\mu=15, b=3$')\n",
        "maxfreq = n.max()\n",
        "# Set a clean upper y-axis limit.\n",
        "plt.ylim(ymax=np.ceil(maxfreq / 10) * 10 if maxfreq % 10 else maxfreq + 10)\n",
        "plt.show()"
      ],
      "metadata": {
        "id": "Ldjmc9KH-U2c",
        "colab": {
          "base_uri": "https://localhost:8080/",
          "height": 647
        },
        "outputId": "e5018acc-06f7-46e5-8dbd-c4ec36f76b98"
      },
      "execution_count": 53,
      "outputs": [
        {
          "output_type": "display_data",
          "data": {
            "text/plain": [
              "<Figure size 640x480 with 1 Axes>"
            ],
            "image/png": "[encoded data removed]"
          },
          "metadata": {}
        }
      ]
    },
    {
      "cell_type": "code",
      "source": [
        "# Bonus: Create a scatter plot of random data\n",
        "# Generate random data\n",
        "x = np.random.laplace(loc=15, scale=3, size=100)\n",
        "y = np.random.laplace(loc=10, scale=2, size=100)\n",
        "\n",
        "# Create a scatter plot\n",
        "plt.scatter(x, y, color='#0504aa', alpha=0.7)\n",
        "\n",
        "# Add labels and title\n",
        "plt.xlabel('X Value')\n",
        "plt.ylabel('Y Value')\n",
        "plt.title('Scatter Plot Example')\n",
        "\n",
        "# Show the plot\n",
        "plt.show()"
      ],
      "metadata": {
        "id": "Qisj1sWW-a42",
        "colab": {
          "base_uri": "https://localhost:8080/",
          "height": 472
        },
        "outputId": "94aaac6b-7e9b-4c33-bfe3-5ea2c48871dd"
      },
      "execution_count": 56,
      "outputs": [
        {
          "output_type": "display_data",
          "data": {
            "text/plain": [
              "<Figure size 640x480 with 1 Axes>"
            ],
            "image/png": "[encoded data removed]"
          },
          "metadata": {}
        }
      ]
    },
    {
      "cell_type": "code",
      "source": [
        "# Load data from 'https://raw.githubusercontent.com/alanjones2/dataviz/master/london2018.csv'\n",
        "# and print it\n",
        "# First import libraries numpy, and pandas and matplotlib.pyplot\n",
        "import numpy as np\n",
        "import pandas as pd\n",
        "url = 'https://raw.githubusercontent.com/alanjones2/dataviz/master/london2018.csv'\n",
        "# Load data from the above url using pandas read_csv\n",
        "weather = pd.read_csv(url)\n",
        "# Print the top 10 rows\n",
        "print(weather.head(10))"
      ],
      "metadata": {
        "id": "qhSWS2VK-j_s",
        "colab": {
          "base_uri": "https://localhost:8080/"
        },
        "outputId": "10daea1f-5c49-44e2-ba94-bb44e83a6398"
      },
      "execution_count": 59,
      "outputs": [
        {
          "output_type": "stream",
          "name": "stdout",
          "text": [
            "   Year  Month  Tmax  Tmin  Rain    Sun\n",
            "0  2018      1   9.7   3.8  58.0   46.5\n",
            "1  2018      2   6.7   0.6  29.0   92.0\n",
            "2  2018      3   9.8   3.0  81.2   70.3\n",
            "3  2018      4  15.5   7.9  65.2  113.4\n",
            "4  2018      5  20.8   9.8  58.4  248.3\n",
            "5  2018      6  24.2  13.1   0.4  234.5\n",
            "6  2018      7  28.3  16.4  14.8  272.5\n",
            "7  2018      8  24.5  14.5  48.2  182.1\n",
            "8  2018      9  20.9  11.0  29.4  195.0\n",
            "9  2018     10  16.5   8.5  61.0  137.0\n"
          ]
        }
      ]
    },
    {
      "cell_type": "code",
      "source": [
        "# Use pandas describe() function to describe the data loaded above\n",
        "weather.describe()"
      ],
      "metadata": {
        "id": "3IXXB-ed-k0p",
        "colab": {
          "base_uri": "https://localhost:8080/",
          "height": 300
        },
        "outputId": "0d13e78e-3f3a-46cc-c1a3-bed5f3eed0f6"
      },
      "execution_count": 60,
      "outputs": [
        {
          "output_type": "execute_result",
          "data": {
            "text/plain": [
              "         Year      Month      Tmax       Tmin       Rain         Sun\n",
              "count    12.0  12.000000  12.00000  12.000000  12.000000   12.000000\n",
              "mean   2018.0   6.500000  16.65000   8.300000  48.333333  142.066667\n",
              "std       0.0   3.605551   7.00915   4.864715  24.630555   82.033777\n",
              "min    2018.0   1.000000   6.70000   0.600000   0.400000   40.300000\n",
              "25%    2018.0   3.750000  10.47500   4.850000  29.300000   72.250000\n",
              "50%    2018.0   6.500000  16.00000   8.200000  58.200000  125.200000\n",
              "75%    2018.0   9.250000  21.72500  11.525000  62.050000  204.875000\n",
              "max    2018.0  12.000000  28.30000  16.400000  81.200000  272.500000"
            ],
            "text/html": [
              "\n",
              "  <div id=\"df-9ad4f21e-d8a8-4f7a-8201-5e7176b6f900\" class=\"colab-df-container\">\n",
              "    <div>\n",
              "<style scoped>\n",
              "    .dataframe tbody tr th:only-of-type {\n",
              "        vertical-align: middle;\n",
              "    }\n",
              "\n",
              "    .dataframe tbody tr th {\n",
              "        vertical-align: top;\n",
              "    }\n",
              "\n",
              "    .dataframe thead th {\n",
              "        text-align: right;\n",
              "    }\n",
              "</style>\n",
              "<table border=\"1\" class=\"dataframe\">\n",
              "  <thead>\n",
              "    <tr style=\"text-align: right;\">\n",
              "      <th></th>\n",
              "      <th>Year</th>\n",
              "      <th>Month</th>\n",
              "      <th>Tmax</th>\n",
              "      <th>Tmin</th>\n",
              "      <th>Rain</th>\n",
              "      <th>Sun</th>\n",
              "    </tr>\n",
              "  </thead>\n",
              "  <tbody>\n",
              "    <tr>\n",
              "      <th>count</th>\n",
              "      <td>12.0</td>\n",
              "      <td>12.000000</td>\n",
              "      <td>12.00000</td>\n",
              "      <td>12.000000</td>\n",
              "      <td>12.000000</td>\n",
              "      <td>12.000000</td>\n",
              "    </tr>\n",
              "    <tr>\n",
              "      <th>mean</th>\n",
              "      <td>2018.0</td>\n",
              "      <td>6.500000</td>\n",
              "      <td>16.65000</td>\n",
              "      <td>8.300000</td>\n",
              "      <td>48.333333</td>\n",
              "      <td>142.066667</td>\n",
              "    </tr>\n",
              "    <tr>\n",
              "      <th>std</th>\n",
              "      <td>0.0</td>\n",
              "      <td>3.605551</td>\n",
              "      <td>7.00915</td>\n",
              "      <td>4.864715</td>\n",
              "      <td>24.630555</td>\n",
              "      <td>82.033777</td>\n",
              "    </tr>\n",
              "    <tr>\n",
              "      <th>min</th>\n",
              "      <td>2018.0</td>\n",
              "      <td>1.000000</td>\n",
              "      <td>6.70000</td>\n",
              "      <td>0.600000</td>\n",
              "      <td>0.400000</td>\n",
              "      <td>40.300000</td>\n",
              "    </tr>\n",
              "    <tr>\n",
              "      <th>25%</th>\n",
              "      <td>2018.0</td>\n",
              "      <td>3.750000</td>\n",
              "      <td>10.47500</td>\n",
              "      <td>4.850000</td>\n",
              "      <td>29.300000</td>\n",
              "      <td>72.250000</td>\n",
              "    </tr>\n",
              "    <tr>\n",
              "      <th>50%</th>\n",
              "      <td>2018.0</td>\n",
              "      <td>6.500000</td>\n",
              "      <td>16.00000</td>\n",
              "      <td>8.200000</td>\n",
              "      <td>58.200000</td>\n",
              "      <td>125.200000</td>\n",
              "    </tr>\n",
              "    <tr>\n",
              "      <th>75%</th>\n",
              "      <td>2018.0</td>\n",
              "      <td>9.250000</td>\n",
              "      <td>21.72500</td>\n",
              "      <td>11.525000</td>\n",
              "      <td>62.050000</td>\n",
              "      <td>204.875000</td>\n",
              "    </tr>\n",
              "    <tr>\n",
              "      <th>max</th>\n",
              "      <td>2018.0</td>\n",
              "      <td>12.000000</td>\n",
              "      <td>28.30000</td>\n",
              "      <td>16.400000</td>\n",
              "      <td>81.200000</td>\n",
              "      <td>272.500000</td>\n",
              "    </tr>\n",
              "  </tbody>\n",
              "</table>\n",
              "</div>\n",
              "    <div class=\"colab-df-buttons\">\n",
              "\n",
              "  <div class=\"colab-df-container\">\n",
              "    <button class=\"colab-df-convert\" onclick=\"convertToInteractive('df-9ad4f21e-d8a8-4f7a-8201-5e7176b6f900')\"\n",
              "            title=\"Convert this dataframe to an interactive table.\"\n",
              "            style=\"display:none;\">\n",
              "\n",
              "  <svg xmlns=\"http://www.w3.org/2000/svg\" height=\"24px\" viewBox=\"0 -960 960 960\">\n",
              "    <path d=\"M120-120v-720h720v720H120Zm60-500h600v-160H180v160Zm220 220h160v-160H400v160Zm0 220h160v-160H400v160ZM180-400h160v-160H180v160Zm440 0h160v-160H620v160ZM180-180h160v-160H180v160Zm440 0h160v-160H620v160Z\"/>\n",
              "  </svg>\n",
              "    </button>\n",
              "\n",
              "  <style>\n",
              "    .colab-df-container {\n",
              "      display:flex;\n",
              "      gap: 12px;\n",
              "    }\n",
              "\n",
              "    .colab-df-convert {\n",
              "      background-color: #E8F0FE;\n",
              "      border: none;\n",
              "      border-radius: 50%;\n",
              "      cursor: pointer;\n",
              "      display: none;\n",
              "      fill: #1967D2;\n",
              "      height: 32px;\n",
              "      padding: 0 0 0 0;\n",
              "      width: 32px;\n",
              "    }\n",
              "\n",
              "    .colab-df-convert:hover {\n",
              "      background-color: #E2EBFA;\n",
              "      box-shadow: 0px 1px 2px rgba(60, 64, 67, 0.3), 0px 1px 3px 1px rgba(60, 64, 67, 0.15);\n",
              "      fill: #174EA6;\n",
              "    }\n",
              "\n",
              "    .colab-df-buttons div {\n",
              "      margin-bottom: 4px;\n",
              "    }\n",
              "\n",
              "    [theme=dark] .colab-df-convert {\n",
              "      background-color: #3B4455;\n",
              "      fill: #D2E3FC;\n",
              "    }\n",
              "\n",
              "    [theme=dark] .colab-df-convert:hover {\n",
              "      background-color: #434B5C;\n",
              "      box-shadow: 0px 1px 3px 1px rgba(0, 0, 0, 0.15);\n",
              "      filter: drop-shadow(0px 1px 2px rgba(0, 0, 0, 0.3));\n",
              "      fill: #FFFFFF;\n",
              "    }\n",
              "  </style>\n",
              "\n",
              "    <script>\n",
              "      const buttonEl =\n",
              "        document.querySelector('#df-9ad4f21e-d8a8-4f7a-8201-5e7176b6f900 button.colab-df-convert');\n",
              "      buttonEl.style.display =\n",
              "        google.colab.kernel.accessAllowed ? 'block' : 'none';\n",
              "\n",
              "      async function convertToInteractive(key) {\n",
              "        const element = document.querySelector('#df-9ad4f21e-d8a8-4f7a-8201-5e7176b6f900');\n",
              "        const dataTable =\n",
              "          await google.colab.kernel.invokeFunction('convertToInteractive',\n",
              "                                                    [key], {});\n",
              "        if (!dataTable) return;\n",
              "\n",
              "        const docLinkHtml = 'Like what you see? Visit the ' +\n",
              "          '<a target=\"_blank\" href=https://colab.research.google.com/notebooks/data_table.ipynb>data table notebook</a>'\n",
              "          + ' to learn more about interactive tables.';\n",
              "        element.innerHTML = '';\n",
              "        dataTable['output_type'] = 'display_data';\n",
              "        await google.colab.output.renderOutput(dataTable, element);\n",
              "        const docLink = document.createElement('div');\n",
              "        docLink.innerHTML = docLinkHtml;\n",
              "        element.appendChild(docLink);\n",
              "      }\n",
              "    </script>\n",
              "  </div>\n",
              "\n",
              "\n",
              "<div id=\"df-53b1ad4b-8c4b-412c-8483-cdf9312cefd7\">\n",
              "  <button class=\"colab-df-quickchart\" onclick=\"quickchart('df-53b1ad4b-8c4b-412c-8483-cdf9312cefd7')\"\n",
              "            title=\"Suggest charts\"\n",
              "            style=\"display:none;\">\n",
              "\n",
              "<svg xmlns=\"http://www.w3.org/2000/svg\" height=\"24px\"viewBox=\"0 0 24 24\"\n",
              "     width=\"24px\">\n",
              "    <g>\n",
              "        <path d=\"M19 3H5c-1.1 0-2 .9-2 2v14c0 1.1.9 2 2 2h14c1.1 0 2-.9 2-2V5c0-1.1-.9-2-2-2zM9 17H7v-7h2v7zm4 0h-2V7h2v10zm4 0h-2v-4h2v4z\"/>\n",
              "    </g>\n",
              "</svg>\n",
              "  </button>\n",
              "\n",
              "<style>\n",
              "  .colab-df-quickchart {\n",
              "      --bg-color: #E8F0FE;\n",
              "      --fill-color: #1967D2;\n",
              "      --hover-bg-color: #E2EBFA;\n",
              "      --hover-fill-color: #174EA6;\n",
              "      --disabled-fill-color: #AAA;\n",
              "      --disabled-bg-color: #DDD;\n",
              "  }\n",
              "\n",
              "  [theme=dark] .colab-df-quickchart {\n",
              "      --bg-color: #3B4455;\n",
              "      --fill-color: #D2E3FC;\n",
              "      --hover-bg-color: #434B5C;\n",
              "      --hover-fill-color: #FFFFFF;\n",
              "      --disabled-bg-color: #3B4455;\n",
              "      --disabled-fill-color: #666;\n",
              "  }\n",
              "\n",
              "  .colab-df-quickchart {\n",
              "    background-color: var(--bg-color);\n",
              "    border: none;\n",
              "    border-radius: 50%;\n",
              "    cursor: pointer;\n",
              "    display: none;\n",
              "    fill: var(--fill-color);\n",
              "    height: 32px;\n",
              "    padding: 0;\n",
              "    width: 32px;\n",
              "  }\n",
              "\n",
              "  .colab-df-quickchart:hover {\n",
              "    background-color: var(--hover-bg-color);\n",
              "    box-shadow: 0 1px 2px rgba(60, 64, 67, 0.3), 0 1px 3px 1px rgba(60, 64, 67, 0.15);\n",
              "    fill: var(--button-hover-fill-color);\n",
              "  }\n",
              "\n",
              "  .colab-df-quickchart-complete:disabled,\n",
              "  .colab-df-quickchart-complete:disabled:hover {\n",
              "    background-color: var(--disabled-bg-color);\n",
              "    fill: var(--disabled-fill-color);\n",
              "    box-shadow: none;\n",
              "  }\n",
              "\n",
              "  .colab-df-spinner {\n",
              "    border: 2px solid var(--fill-color);\n",
              "    border-color: transparent;\n",
              "    border-bottom-color: var(--fill-color);\n",
              "    animation:\n",
              "      spin 1s steps(1) infinite;\n",
              "  }\n",
              "\n",
              "  @keyframes spin {\n",
              "    0% {\n",
              "      border-color: transparent;\n",
              "      border-bottom-color: var(--fill-color);\n",
              "      border-left-color: var(--fill-color);\n",
              "    }\n",
              "    20% {\n",
              "      border-color: transparent;\n",
              "      border-left-color: var(--fill-color);\n",
              "      border-top-color: var(--fill-color);\n",
              "    }\n",
              "    30% {\n",
              "      border-color: transparent;\n",
              "      border-left-color: var(--fill-color);\n",
              "      border-top-color: var(--fill-color);\n",
              "      border-right-color: var(--fill-color);\n",
              "    }\n",
              "    40% {\n",
              "      border-color: transparent;\n",
              "      border-right-color: var(--fill-color);\n",
              "      border-top-color: var(--fill-color);\n",
              "    }\n",
              "    60% {\n",
              "      border-color: transparent;\n",
              "      border-right-color: var(--fill-color);\n",
              "    }\n",
              "    80% {\n",
              "      border-color: transparent;\n",
              "      border-right-color: var(--fill-color);\n",
              "      border-bottom-color: var(--fill-color);\n",
              "    }\n",
              "    90% {\n",
              "      border-color: transparent;\n",
              "      border-bottom-color: var(--fill-color);\n",
              "    }\n",
              "  }\n",
              "</style>\n",
              "\n",
              "  <script>\n",
              "    async function quickchart(key) {\n",
              "      const quickchartButtonEl =\n",
              "        document.querySelector('#' + key + ' button');\n",
              "      quickchartButtonEl.disabled = true;  // To prevent multiple clicks.\n",
              "      quickchartButtonEl.classList.add('colab-df-spinner');\n",
              "      try {\n",
              "        const charts = await google.colab.kernel.invokeFunction(\n",
              "            'suggestCharts', [key], {});\n",
              "      } catch (error) {\n",
              "        console.error('Error during call to suggestCharts:', error);\n",
              "      }\n",
              "      quickchartButtonEl.classList.remove('colab-df-spinner');\n",
              "      quickchartButtonEl.classList.add('colab-df-quickchart-complete');\n",
              "    }\n",
              "    (() => {\n",
              "      let quickchartButtonEl =\n",
              "        document.querySelector('#df-53b1ad4b-8c4b-412c-8483-cdf9312cefd7 button');\n",
              "      quickchartButtonEl.style.display =\n",
              "        google.colab.kernel.accessAllowed ? 'block' : 'none';\n",
              "    })();\n",
              "  </script>\n",
              "</div>\n",
              "\n",
              "    </div>\n",
              "  </div>\n"
            ],
            "application/vnd.google.colaboratory.intrinsic+json": {
              "type": "dataframe",
              "summary": "{\n  \"name\": \"weather\",\n  \"rows\": 8,\n  \"fields\": [\n    {\n      \"column\": \"Year\",\n      \"properties\": {\n        \"dtype\": \"number\",\n        \"std\": 931.380542144678,\n        \"min\": 0.0,\n        \"max\": 2018.0,\n        \"num_unique_values\": 3,\n        \"samples\": [\n          12.0,\n          2018.0,\n          0.0\n        ],\n        \"semantic_type\": \"\",\n        \"description\": \"\"\n      }\n    },\n    {\n      \"column\": \"Month\",\n      \"properties\": {\n        \"dtype\": \"number\",\n        \"std\": 4.02499727130048,\n        \"min\": 1.0,\n        \"max\": 12.0,\n        \"num_unique_values\": 6,\n        \"samples\": [\n          12.0,\n          6.5,\n          9.25\n        ],\n        \"semantic_type\": \"\",\n        \"description\": \"\"\n      }\n    },\n    {\n      \"column\": \"Tmax\",\n      \"properties\": {\n        \"dtype\": \"number\",\n        \"std\": 7.444026785805031,\n        \"min\": 6.7,\n        \"max\": 28.3,\n        \"num_unique_values\": 8,\n        \"samples\": [\n          16.65,\n          16.0,\n          12.0\n        ],\n        \"semantic_type\": \"\",\n        \"description\": \"\"\n      }\n    },\n    {\n      \"column\": \"Tmin\",\n      \"properties\": {\n        \"dtype\": \"number\",\n        \"std\": 4.966888656013765,\n        \"min\": 0.6,\n        \"max\": 16.4,\n        \"num_unique_values\": 8,\n        \"samples\": [\n          8.299999999999999,\n          8.2,\n          12.0\n        ],\n        \"semantic_type\": \"\",\n        \"description\": \"\"\n      }\n    },\n    {\n      \"column\": \"Rain\",\n      \"properties\": {\n        \"dtype\": \"number\",\n        \"std\": 27.478066706180062,\n        \"min\": 0.4,\n        \"max\": 81.2,\n        \"num_unique_values\": 8,\n        \"samples\": [\n          48.333333333333336,\n          58.2,\n          12.0\n        ],\n        \"semantic_type\": \"\",\n        \"description\": \"\"\n      }\n    },\n    {\n      \"column\": \"Sun\",\n      \"properties\": {\n        \"dtype\": \"number\",\n        \"std\": 86.76895089019847,\n        \"min\": 12.0,\n        \"max\": 272.5,\n        \"num_unique_values\": 8,\n        \"samples\": [\n          142.0666666666667,\n          125.2,\n          12.0\n        ],\n        \"semantic_type\": \"\",\n        \"description\": \"\"\n      }\n    }\n  ]\n}"
            }
          },
          "metadata": {},
          "execution_count": 60
        }
      ]
    },
    {
      "cell_type": "code",
      "source": [
        "Tmax = weather[\"Tmax\"]"
      ],
      "metadata": {
        "id": "TtTc6tmM1zKa"
      },
      "execution_count": 70,
      "outputs": []
    },
    {
      "cell_type": "code",
      "source": [
        "Tmin = weather[\"Tmin\"]"
      ],
      "metadata": {
        "id": "rAkqpANy19JJ"
      },
      "execution_count": 71,
      "outputs": []
    },
    {
      "cell_type": "code",
      "source": [
        "# Plot temperature min and max\n",
        "plt.xticks(ticks=weather[\"Month\"])\n",
        "plt.plot(weather[\"Month\"], Tmax)\n",
        "plt.plot(weather[\"Month\"], Tmin)\n"
      ],
      "metadata": {
        "id": "QovDyBwQ-uCH",
        "colab": {
          "base_uri": "https://localhost:8080/",
          "height": 447
        },
        "outputId": "c43bcc23-67a0-4749-c349-0163a8b03126"
      },
      "execution_count": 77,
      "outputs": [
        {
          "output_type": "execute_result",
          "data": {
            "text/plain": [
              "[<matplotlib.lines.Line2D at 0x7ad4c129a860>]"
            ]
          },
          "metadata": {},
          "execution_count": 77
        },
        {
          "output_type": "display_data",
          "data": {
            "text/plain": [
              "<Figure size 640x480 with 1 Axes>"
            ],
            "image/png": "[encoded data removed]"
          },
          "metadata": {}
        }
      ]
    },
    {
      "cell_type": "code",
      "source": [
        "# Plot the rain as above\n",
        "weather.???"
      ],
      "metadata": {
        "id": "vQCQxkdp-z12"
      },
      "execution_count": null,
      "outputs": []
    },
    {
      "cell_type": "code",
      "source": [
        "# Plot the sun column\n",
        "weather.???"
      ],
      "metadata": {
        "id": "tXgjwRPk-4ge"
      },
      "execution_count": null,
      "outputs": []
    },
    {
      "cell_type": "markdown",
      "source": [
        "## Visualising the iris dataset with seaborn"
      ],
      "metadata": {
        "id": "ZOmq7ZNN_JGS"
      }
    },
    {
      "cell_type": "code",
      "source": [
        "# Import seaborn library\n",
        "import ??? as sns\n",
        "# Import load_iris\n",
        "from sklearn.datasets import load_iris\n",
        "# Load the dataset\n",
        "dataset=load_iris()\n",
        "# Place in pandas dataframe\n",
        "data=pd.DataFrame(dataset[\"data\"],columns=[\"Petal length\",\"Petal Width\",\"Sepal Length\",\"Sepal Width\"])\n",
        "data[\"Species\"]=dataset[\"target\"]\n",
        "data[\"Species\"]=data[\"Species\"].apply(lambda x: dataset[\"target_names\"][x])\n",
        "# Print top 10 rows\n",
        "???"
      ],
      "metadata": {
        "id": "cRnBCaaa_EjO"
      },
      "execution_count": null,
      "outputs": []
    },
    {
      "cell_type": "code",
      "source": [
        "# Describe the dataframe\n",
        "???"
      ],
      "metadata": {
        "id": "ujIDRPE3_fEI"
      },
      "execution_count": null,
      "outputs": []
    },
    {
      "cell_type": "code",
      "source": [
        "# use seaborn pairplot function to plot relationship between variables\n",
        "sns.???(data, hue=\"Species\")"
      ],
      "metadata": {
        "id": "4kxqcprp_iy-"
      },
      "execution_count": null,
      "outputs": []
    },
    {
      "cell_type": "markdown",
      "source": [
        "\n",
        "\n",
        "---\n",
        "\n",
        "\n",
        "\n",
        "---\n",
        "\n",
        "\n",
        "\n",
        "> > > > > > > > > © 2024 Institute of Data\n",
        "\n",
        "\n",
        "---\n",
        "\n",
        "\n",
        "\n",
        "---\n",
        "\n",
        "\n",
        "\n"
      ],
      "metadata": {
        "id": "1sXaEeYiyju-"
      }
    }
  ],
  "metadata": {
    "colab": {
      "provenance": [],
      "toc_visible": true,
      "include_colab_link": true
    },
    "kernelspec": {
      "display_name": "Python 3",
      "language": "python",
      "name": "python3"
    },
    "language_info": {
      "codemirror_mode": {
        "name": "ipython",
        "version": 3
      },
      "file_extension": ".py",
      "mimetype": "text/x-python",
      "name": "python",
      "nbconvert_exporter": "python",
      "pygments_lexer": "ipython3",
      "version": "3.7.3"
    }
  },
  "nbformat": 4,
  "nbformat_minor": 0
}